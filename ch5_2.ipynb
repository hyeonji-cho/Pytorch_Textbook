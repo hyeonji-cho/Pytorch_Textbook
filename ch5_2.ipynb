{
  "nbformat": 4,
  "nbformat_minor": 0,
  "metadata": {
    "colab": {
      "provenance": [],
      "gpuType": "T4",
      "authorship_tag": "ABX9TyOtuM9ZBQPkGm0bSw/8VC55",
      "include_colab_link": true
    },
    "kernelspec": {
      "name": "python3",
      "display_name": "Python 3"
    },
    "language_info": {
      "name": "python"
    },
    "accelerator": "GPU"
  },
  "cells": [
    {
      "cell_type": "markdown",
      "metadata": {
        "id": "view-in-github",
        "colab_type": "text"
      },
      "source": [
        "<a href=\"https://colab.research.google.com/github/hyeonji-cho/Pytorch_Textbook/blob/main/ch5_2.ipynb\" target=\"_parent\"><img src=\"https://colab.research.google.com/assets/colab-badge.svg\" alt=\"Open In Colab\"/></a>"
      ]
    },
    {
      "cell_type": "markdown",
      "source": [
        "# 5.2 합성곱 신경망 맛보기\n",
        "### fashion_mnist 데이터셋 사용"
      ],
      "metadata": {
        "id": "NYulN1rgw8cN"
      }
    },
    {
      "cell_type": "markdown",
      "source": [
        "#### 라이브러리 호출"
      ],
      "metadata": {
        "id": "WT0V102yxGtv"
      }
    },
    {
      "cell_type": "code",
      "execution_count": null,
      "metadata": {
        "id": "Yo4hQ0fcw6ou"
      },
      "outputs": [],
      "source": [
        "import numpy as np\n",
        "import matplotlib.pyplot as plt\n",
        "\n",
        "import torch\n",
        "import torch.nn as nn\n",
        "from torch.autograd import Variable\n",
        "import torch.nn.functional as F\n",
        "\n",
        "import torchvision\n",
        "import torchvision.transforms as transforms\n",
        "from torch.utils.data import Dataset, DataLoader"
      ]
    },
    {
      "cell_type": "markdown",
      "source": [
        "#### CPU 혹은 GPU 장치 확인"
      ],
      "metadata": {
        "id": "E8ouo8A-xOFw"
      }
    },
    {
      "cell_type": "code",
      "source": [
        "device = torch.device(\"cuda:0\" if torch.cuda.is_available() else \"cpu\")"
      ],
      "metadata": {
        "id": "9OVrLfm0xSdk"
      },
      "execution_count": null,
      "outputs": []
    },
    {
      "cell_type": "markdown",
      "source": [
        "#### fashion_mnist 데이터셋 내려받기"
      ],
      "metadata": {
        "id": "6Cc42cP3xi5G"
      }
    },
    {
      "cell_type": "code",
      "source": [
        "train_dataset  = torchvision.datasets.FashionMNIST(\"FashionMNIST/\", download=True, transform=\n",
        "                                                transforms.Compose([transforms.ToTensor()]))  # 이미지를 텐서로 변경\n",
        "test_dataset  = torchvision.datasets.FashionMNIST(\"FashionMNIST/\", download=True, train=False, transform=\n",
        "                                               transforms.Compose([transforms.ToTensor()]))"
      ],
      "metadata": {
        "colab": {
          "base_uri": "https://localhost:8080/"
        },
        "id": "-rXZQH-qxxD7",
        "outputId": "775cc263-ad69-4dc9-f6b7-c0d3e14d379e"
      },
      "execution_count": null,
      "outputs": [
        {
          "output_type": "stream",
          "name": "stdout",
          "text": [
            "Downloading http://fashion-mnist.s3-website.eu-central-1.amazonaws.com/train-images-idx3-ubyte.gz\n",
            "Downloading http://fashion-mnist.s3-website.eu-central-1.amazonaws.com/train-images-idx3-ubyte.gz to FashionMNIST/FashionMNIST/raw/train-images-idx3-ubyte.gz\n"
          ]
        },
        {
          "output_type": "stream",
          "name": "stderr",
          "text": [
            "100%|██████████| 26421880/26421880 [00:00<00:00, 119689684.45it/s]\n"
          ]
        },
        {
          "output_type": "stream",
          "name": "stdout",
          "text": [
            "Extracting FashionMNIST/FashionMNIST/raw/train-images-idx3-ubyte.gz to FashionMNIST/FashionMNIST/raw\n",
            "\n",
            "Downloading http://fashion-mnist.s3-website.eu-central-1.amazonaws.com/train-labels-idx1-ubyte.gz\n",
            "Downloading http://fashion-mnist.s3-website.eu-central-1.amazonaws.com/train-labels-idx1-ubyte.gz to FashionMNIST/FashionMNIST/raw/train-labels-idx1-ubyte.gz\n"
          ]
        },
        {
          "output_type": "stream",
          "name": "stderr",
          "text": [
            "100%|██████████| 29515/29515 [00:00<00:00, 9342304.92it/s]"
          ]
        },
        {
          "output_type": "stream",
          "name": "stdout",
          "text": [
            "Extracting FashionMNIST/FashionMNIST/raw/train-labels-idx1-ubyte.gz to FashionMNIST/FashionMNIST/raw\n",
            "\n",
            "Downloading http://fashion-mnist.s3-website.eu-central-1.amazonaws.com/t10k-images-idx3-ubyte.gz\n",
            "Downloading http://fashion-mnist.s3-website.eu-central-1.amazonaws.com/t10k-images-idx3-ubyte.gz to FashionMNIST/FashionMNIST/raw/t10k-images-idx3-ubyte.gz\n"
          ]
        },
        {
          "output_type": "stream",
          "name": "stderr",
          "text": [
            "\n",
            "100%|██████████| 4422102/4422102 [00:00<00:00, 55467587.28it/s]\n"
          ]
        },
        {
          "output_type": "stream",
          "name": "stdout",
          "text": [
            "Extracting FashionMNIST/FashionMNIST/raw/t10k-images-idx3-ubyte.gz to FashionMNIST/FashionMNIST/raw\n",
            "\n",
            "Downloading http://fashion-mnist.s3-website.eu-central-1.amazonaws.com/t10k-labels-idx1-ubyte.gz\n",
            "Downloading http://fashion-mnist.s3-website.eu-central-1.amazonaws.com/t10k-labels-idx1-ubyte.gz to FashionMNIST/FashionMNIST/raw/t10k-labels-idx1-ubyte.gz\n"
          ]
        },
        {
          "output_type": "stream",
          "name": "stderr",
          "text": [
            "100%|██████████| 5148/5148 [00:00<00:00, 24453314.83it/s]\n"
          ]
        },
        {
          "output_type": "stream",
          "name": "stdout",
          "text": [
            "Extracting FashionMNIST/FashionMNIST/raw/t10k-labels-idx1-ubyte.gz to FashionMNIST/FashionMNIST/raw\n",
            "\n"
          ]
        }
      ]
    },
    {
      "cell_type": "markdown",
      "source": [
        "#### fashion_mnist 데이터를 데이터로더에 전달"
      ],
      "metadata": {
        "id": "AvXXJgbw9R38"
      }
    },
    {
      "cell_type": "code",
      "source": [
        "train_loader = torch.utils.data.DataLoader(train_dataset,\n",
        "                                           batch_size=100)  # 100개 단위로 데이터를 묶어서 불러온다\n",
        "test_loader = torch.utils.data.DataLoader(test_dataset,\n",
        "                                          batch_size=100)"
      ],
      "metadata": {
        "id": "OHFDj2Gq9WXW"
      },
      "execution_count": null,
      "outputs": []
    },
    {
      "cell_type": "markdown",
      "source": [
        "#### 분류에 사용될 클래스 정의"
      ],
      "metadata": {
        "id": "ZXNpYDhu902L"
      }
    },
    {
      "cell_type": "code",
      "source": [
        "labels_map = {0 : 'T-Shirt', 1 : 'Trouser', 2 : 'Pullover', 3 : 'Dress', 4 : 'Coat', 5 : 'Sandal', 6 : 'Shirt',\n",
        "              7 : 'Sneaker', 8 : 'Bag', 9 : 'Ankle Boot'}\n",
        "\n",
        "fig = plt.figure(figsize=(8,8));  # 8x8 사이즈의 플롯 생성\n",
        "columns = 4;\n",
        "rows = 5;\n",
        "\n",
        "# 플롯에 이미지와 라벨 표시\n",
        "for i in range(1, columns*rows +1):\n",
        "    img_xy = np.random.randint(len(train_dataset));  # 0에서 train_dataset 길이 사이의 임의의 숫자 생성\n",
        "    img = train_dataset[img_xy][0][0,:,:]  # 선택된 인덱스의 이미지 (첫번째 채널에 해당하는 데이터)\n",
        "    fig.add_subplot(rows, columns, i)  # i번째 위치에 subplot 추가\n",
        "    plt.title(labels_map[train_dataset[img_xy][1]])  # 선택된 이미지의 라벨을 표시\n",
        "    plt.axis('off')  # 축 제거\n",
        "    plt.imshow(img, cmap='gray')  # 이미지를 흑백으로 표시\n",
        "plt.show()"
      ],
      "metadata": {
        "colab": {
          "base_uri": "https://localhost:8080/",
          "height": 675
        },
        "id": "rNUiT3XM93a3",
        "outputId": "2a949896-48df-4ed0-b925-b2d8508ceb8d"
      },
      "execution_count": null,
      "outputs": [
        {
          "output_type": "display_data",
          "data": {
            "text/plain": [
              "<Figure size 800x800 with 20 Axes>"
            ],
            "image/png": "[encoded data removed]"
          },
          "metadata": {}
        }
      ]
    },
    {
      "cell_type": "markdown",
      "source": [
        "#### 심층 신경망 모델 생성"
      ],
      "metadata": {
        "id": "8myTq61SBhhk"
      }
    },
    {
      "cell_type": "code",
      "source": [
        "class FashionDNN(nn.Module):\n",
        "    # class 형태의 모델은 항상 torch.nn.Module을 상속받는다\n",
        "    def __init__(self):  # __init__()은 객체가 갖는 속성 값 초기화, 객체가 생성될 때 자동으로 호출된다\n",
        "        super(FashionDNN, self).__init__()  # nn.Module의 초기화 메서드 실행\n",
        "        self.fc1 = nn.Linear(in_features=784,out_features=256)  # 단순 선형 회귀 모델\n",
        "        self.drop = nn.Dropout2d(0.25)  # 0.25만큼의 비율로 텐서의 값이 0이 된다. 0.75에 해당하는 값은 (1/(1-0.75))만큼 커진다\n",
        "        self.fc2 = nn.Linear(in_features=256,out_features=128)\n",
        "        self.fc3 = nn.Linear(in_features=128,out_features=10)\n",
        "\n",
        "    def forward(self,input_data):  # 실제로 순전파 연산을 진행하는 함수\n",
        "        out = input_data.view(-1, 784)  # 텐서의 크기를 (?,784)로 변경 -> 이미지 데이터를 펼쳐서 1차원 벡터로 변환한다\n",
        "        out = F.relu(self.fc1(out))  # forward() 함수에서 활성화 함수 지정\n",
        "        out = self.drop(out)\n",
        "        out = F.relu(self.fc2(out))\n",
        "        out = self.fc3(out)\n",
        "        return out"
      ],
      "metadata": {
        "id": "jp92rUmkBj42"
      },
      "execution_count": null,
      "outputs": []
    },
    {
      "cell_type": "markdown",
      "source": [
        "#### 심층 신경망에서 필요한 파라미터 정의 (손실 함수, 학습률, 옵티마이저)"
      ],
      "metadata": {
        "id": "kqZdUuiSJ75f"
      }
    },
    {
      "cell_type": "code",
      "source": [
        "learning_rate = 0.001;\n",
        "model = FashionDNN();\n",
        "model.to(device)\n",
        "\n",
        "criterion = nn.CrossEntropyLoss();  # 손실 함수\n",
        "optimizer = torch.optim.Adam(model.parameters(), lr=learning_rate);  # 옵티마이저 - 경사하강법:Adam, 학습률:0.001\n",
        "print(model)"
      ],
      "metadata": {
        "id": "j9YwK81PKB51",
        "colab": {
          "base_uri": "https://localhost:8080/"
        },
        "outputId": "4e7c5658-45ee-46b4-a4a1-f719807ef886"
      },
      "execution_count": null,
      "outputs": [
        {
          "output_type": "stream",
          "name": "stdout",
          "text": [
            "FashionDNN(\n",
            "  (fc1): Linear(in_features=784, out_features=256, bias=True)\n",
            "  (drop): Dropout2d(p=0.25, inplace=False)\n",
            "  (fc2): Linear(in_features=256, out_features=128, bias=True)\n",
            "  (fc3): Linear(in_features=128, out_features=10, bias=True)\n",
            ")\n"
          ]
        }
      ]
    },
    {
      "cell_type": "markdown",
      "source": [
        "#### 모델 학습"
      ],
      "metadata": {
        "id": "PYv3Vm5wKH1x"
      }
    },
    {
      "cell_type": "code",
      "source": [
        "num_epochs = 5\n",
        "count = 0\n",
        "loss_list = []\n",
        "iteration_list = []\n",
        "accuracy_list = []\n",
        "\n",
        "predictions_list = []\n",
        "labels_list = []\n",
        "\n",
        "for epoch in range(num_epochs):  # 레코드(행)을 하나씩 가져온다\n",
        "    for images, labels in train_loader:  # 레코드에서 images, labels 2개를 꺼내온다\n",
        "        images, labels = images.to(device), labels.to(device)  # 모델과 데이터가 동일한 장치에 있어야 한다\n",
        "\n",
        "        # Variable 객체\n",
        "        # 역전파를 위한 미분 값을 자동 계산\n",
        "        train = Variable(images.view(100, 1, 28, 28))  # 배치사이즈, 채널수, 높이, 너비\n",
        "        labels = Variable(labels)\n",
        "\n",
        "        outputs = model(train)  # 학습 데이터를 모델에 적용\n",
        "        loss = criterion(outputs, labels)\n",
        "        optimizer.zero_grad()  # 기울기를 초기화\n",
        "        loss.backward()\n",
        "        optimizer.step()  # 모델의 파라미터를 업데이트\n",
        "        count += 1\n",
        "\n",
        "        if not (count % 50):\n",
        "            total = 0\n",
        "            correct = 0\n",
        "            for images, labels in test_loader:\n",
        "                images, labels = images.to(device), labels.to(device)\n",
        "                labels_list.append(labels)\n",
        "                test = Variable(images.view(100, 1, 28, 28))\n",
        "                outputs = model(test)\n",
        "                predictions = torch.max(outputs, 1)[1].to(device)\n",
        "                predictions_list.append(predictions)\n",
        "                correct += (predictions == labels).sum()\n",
        "                total += len(labels)\n",
        "\n",
        "            accuracy = correct * 100 / total  # 정확도\n",
        "            loss_list.append(loss.data)\n",
        "            iteration_list.append(count)\n",
        "            accuracy_list.append(accuracy)\n",
        "\n",
        "        if not (count % 500):\n",
        "            print(\"Iteration: {}, Loss: {}, Accuracy: {}%\".format(count, loss.data, accuracy))"
      ],
      "metadata": {
        "id": "rujoEADBKfyl",
        "colab": {
          "base_uri": "https://localhost:8080/"
        },
        "outputId": "919177f7-f1a1-47cf-d81b-d3d7a886b7ed"
      },
      "execution_count": null,
      "outputs": [
        {
          "output_type": "stream",
          "name": "stderr",
          "text": [
            "/usr/local/lib/python3.10/dist-packages/torch/nn/functional.py:1347: UserWarning: dropout2d: Received a 2-D input to dropout2d, which is deprecated and will result in an error in a future release. To retain the behavior and silence this warning, please use dropout instead. Note that dropout2d exists to provide channel-wise dropout on inputs with 2 spatial dimensions, a channel dimension, and an optional batch dimension (i.e. 3D or 4D inputs).\n",
            "  warnings.warn(warn_msg)\n"
          ]
        },
        {
          "output_type": "stream",
          "name": "stdout",
          "text": [
            "Iteration: 500, Loss: 0.6190640926361084, Accuracy: 82.90999603271484%\n",
            "Iteration: 1000, Loss: 0.5032315254211426, Accuracy: 84.98999786376953%\n",
            "Iteration: 1500, Loss: 0.3605240285396576, Accuracy: 84.43000030517578%\n",
            "Iteration: 2000, Loss: 0.3780788481235504, Accuracy: 85.12999725341797%\n",
            "Iteration: 2500, Loss: 0.2996842563152313, Accuracy: 85.79000091552734%\n",
            "Iteration: 3000, Loss: 0.291736900806427, Accuracy: 86.5999984741211%\n"
          ]
        }
      ]
    },
    {
      "cell_type": "markdown",
      "source": [
        "#### 합성곱 신경망 생성"
      ],
      "metadata": {
        "id": "weIDUMIfhVqw"
      }
    },
    {
      "cell_type": "code",
      "source": [
        "class FashionCNN(nn.Module):\n",
        "    def __init__(self):\n",
        "        super(FashionCNN, self).__init__()\n",
        "        self.layer1 = nn.Sequential(  # 여러 개의 계층을 하나의 컨테이너에 구현\n",
        "            nn.Conv2d(in_channels=1, out_channels=32, kernel_size=3, padding=1),  # 흑백이라 입력채널 1, (100,32,28,28)\n",
        "            nn.BatchNorm2d(32),  # 평균 0, 표준편차 1로 정규화\n",
        "            nn.ReLU(),\n",
        "            nn.MaxPool2d(kernel_size=2, stride=2)  # 이미지 크기 축소, (100,32,14,14)\n",
        "        )\n",
        "        self.layer2 = nn.Sequential(\n",
        "            nn.Conv2d(in_channels=32, out_channels=64, kernel_size=3),  # (100,64,12,12)\n",
        "            nn.BatchNorm2d(64),\n",
        "            nn.ReLU(),\n",
        "            nn.MaxPool2d(2)  # 이전 레이어의 출력 크기를 절반으로 줄임, (100,64,6,6)\n",
        "        )\n",
        "        self.fc1 = nn.Linear(in_features=64*6*6, out_features=600)  # 1차원 배열 형태로 변환\n",
        "        self.drop = nn.Dropout2d(0.25)\n",
        "        self.fc2 = nn.Linear(in_features=600, out_features=120)\n",
        "        self.fc3 = nn.Linear(in_features=120, out_features=10)\n",
        "\n",
        "    def forward(self, x):\n",
        "        out = self.layer1(x)  # (100,32,14,14)\n",
        "        out = self.layer2(out)  # (100,64,6,6)\n",
        "        out = out.view(out.size(0), -1)  # (100,64*6*6=2304)\n",
        "        out = self.fc1(out)  # (100,600)\n",
        "        out = self.drop(out)\n",
        "        out = self.fc2(out)  # (100,120)\n",
        "        out = self.fc3(out)  # (100,10)\n",
        "        return out\n"
      ],
      "metadata": {
        "id": "uCZ5iT2chYtL"
      },
      "execution_count": null,
      "outputs": []
    },
    {
      "cell_type": "markdown",
      "source": [
        "#### 합성곱 네트워크를 위한 파라미터 정의"
      ],
      "metadata": {
        "id": "OC3QwXvfuI3B"
      }
    },
    {
      "cell_type": "code",
      "source": [
        "learning_rate = 0.001;\n",
        "model = FashionCNN();\n",
        "model.to(device)\n",
        "\n",
        "criterion = nn.CrossEntropyLoss();\n",
        "optimizer = torch.optim.Adam(model.parameters(), lr=learning_rate);\n",
        "print(model)"
      ],
      "metadata": {
        "colab": {
          "base_uri": "https://localhost:8080/"
        },
        "id": "tg0kMu_3uMb4",
        "outputId": "94d36f36-a255-4d4a-9198-b9135e0a7f7d"
      },
      "execution_count": null,
      "outputs": [
        {
          "output_type": "stream",
          "name": "stdout",
          "text": [
            "FashionCNN(\n",
            "  (layer1): Sequential(\n",
            "    (0): Conv2d(1, 32, kernel_size=(3, 3), stride=(1, 1), padding=(1, 1))\n",
            "    (1): BatchNorm2d(32, eps=1e-05, momentum=0.1, affine=True, track_running_stats=True)\n",
            "    (2): ReLU()\n",
            "    (3): MaxPool2d(kernel_size=2, stride=2, padding=0, dilation=1, ceil_mode=False)\n",
            "  )\n",
            "  (layer2): Sequential(\n",
            "    (0): Conv2d(32, 64, kernel_size=(3, 3), stride=(1, 1))\n",
            "    (1): BatchNorm2d(64, eps=1e-05, momentum=0.1, affine=True, track_running_stats=True)\n",
            "    (2): ReLU()\n",
            "    (3): MaxPool2d(kernel_size=2, stride=2, padding=0, dilation=1, ceil_mode=False)\n",
            "  )\n",
            "  (fc1): Linear(in_features=2304, out_features=600, bias=True)\n",
            "  (drop): Dropout2d(p=0.25, inplace=False)\n",
            "  (fc2): Linear(in_features=600, out_features=120, bias=True)\n",
            "  (fc3): Linear(in_features=120, out_features=10, bias=True)\n",
            ")\n"
          ]
        }
      ]
    },
    {
      "cell_type": "markdown",
      "source": [
        "#### 모델 학습 및 성능 평가"
      ],
      "metadata": {
        "id": "LPpwRlF5uPyj"
      }
    },
    {
      "cell_type": "code",
      "source": [
        "num_epochs = 5\n",
        "count = 0\n",
        "loss_list = []\n",
        "iteration_list = []\n",
        "accuracy_list = []\n",
        "\n",
        "predictions_list = []\n",
        "labels_list = []\n",
        "\n",
        "for epoch in range(num_epochs):\n",
        "    for images, labels in train_loader:\n",
        "        images, labels = images.to(device), labels.to(device)\n",
        "\n",
        "        train = Variable(images.view(100, 1, 28, 28))\n",
        "        labels = Variable(labels)\n",
        "\n",
        "        outputs = model(train)\n",
        "        loss = criterion(outputs, labels)\n",
        "        optimizer.zero_grad()\n",
        "        loss.backward()\n",
        "        optimizer.step()\n",
        "        count += 1\n",
        "\n",
        "        if not (count % 50):\n",
        "            total = 0\n",
        "            correct = 0\n",
        "            for images, labels in test_loader:\n",
        "                images, labels = images.to(device), labels.to(device)\n",
        "                labels_list.append(labels)\n",
        "                test = Variable(images.view(100, 1, 28, 28))\n",
        "                outputs = model(test)\n",
        "                predictions = torch.max(outputs, 1)[1].to(device)\n",
        "                predictions_list.append(predictions)\n",
        "                correct += (predictions == labels).sum()\n",
        "                total += len(labels)\n",
        "\n",
        "            accuracy = correct * 100 / total\n",
        "            loss_list.append(loss.data)\n",
        "            iteration_list.append(count)\n",
        "            accuracy_list.append(accuracy)\n",
        "\n",
        "        if not (count % 500):\n",
        "            print(\"Iteration: {}, Loss: {}, Accuracy: {}%\".format(count, loss.data, accuracy))"
      ],
      "metadata": {
        "colab": {
          "base_uri": "https://localhost:8080/"
        },
        "id": "mxW9xsmluTCk",
        "outputId": "bf735b92-3681-43e8-89da-cba5de491538"
      },
      "execution_count": null,
      "outputs": [
        {
          "output_type": "stream",
          "name": "stdout",
          "text": [
            "Iteration: 500, Loss: 0.4843355417251587, Accuracy: 87.1199951171875%\n",
            "Iteration: 1000, Loss: 0.262457013130188, Accuracy: 88.61000061035156%\n",
            "Iteration: 1500, Loss: 0.28579556941986084, Accuracy: 88.93999481201172%\n",
            "Iteration: 2000, Loss: 0.18356141448020935, Accuracy: 89.5999984741211%\n",
            "Iteration: 2500, Loss: 0.12069795280694962, Accuracy: 89.31999969482422%\n",
            "Iteration: 3000, Loss: 0.24565014243125916, Accuracy: 90.29000091552734%\n"
          ]
        }
      ]
    }
  ]
}