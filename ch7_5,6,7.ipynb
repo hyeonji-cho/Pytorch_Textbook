{
  "cells": [
    {
      "cell_type": "markdown",
      "source": [
        "# 7.3.2 LSTMCell"
      ],
      "metadata": {
        "id": "KhR9gPVwEjVj"
      },
      "id": "KhR9gPVwEjVj"
    },
    {
      "cell_type": "markdown",
      "source": [
        "### 라이브러리 호출"
      ],
      "metadata": {
        "id": "BUwRgCj_FC5G"
      },
      "id": "BUwRgCj_FC5G"
    },
    {
      "cell_type": "code",
      "execution_count": null,
      "id": "ef1d02a1",
      "metadata": {
        "id": "ef1d02a1"
      },
      "outputs": [],
      "source": [
        "import torch\n",
        "import torch.nn as nn\n",
        "import torchvision.transforms as transforms\n",
        "import torchvision.datasets as dataset\n",
        "from torch.autograd import Variable\n",
        "from torch.nn import Parameter # 파라미터 목록을 갖고 있는 라이브러리\n",
        "from torch import Tensor\n",
        "import torch.nn.functional as F\n",
        "from torch.utils.data import DataLoader\n",
        "import math # 수학과 관련된 라이브러리\n",
        "\n",
        "device = torch.device('cuda:0' if torch.cuda.is_available() else 'cpu')\n",
        "cuda = True if torch.cuda.is_available() else False # GPU 사용에 필요\n",
        "\n",
        "Tensor = torch.cuda.FloatTensor if cuda else torch.FloatTensor # GPU 사용에 필요\n",
        "\n",
        "torch.manual_seed(125)\n",
        "if torch.cuda.is_available():\n",
        "    torch.cuda.manual_seed_all(125)"
      ]
    },
    {
      "cell_type": "markdown",
      "source": [
        "### 데이터 전처리"
      ],
      "metadata": {
        "id": "qmcsV9WPFjAT"
      },
      "id": "qmcsV9WPFjAT"
    },
    {
      "cell_type": "code",
      "execution_count": null,
      "id": "4f924588",
      "metadata": {
        "id": "4f924588"
      },
      "outputs": [],
      "source": [
        "import torchvision.transforms as transforms\n",
        "\n",
        "mnist_transform = transforms.Compose([\n",
        "    transforms.ToTensor(),\n",
        "    transforms.Normalize((0.5,), (1.0,)) # 평균을 0.5, 표준편차를 1.0으로 데이터 정규화\n",
        "])"
      ]
    },
    {
      "cell_type": "markdown",
      "source": [
        "### 데이터셋 내려받기"
      ],
      "metadata": {
        "id": "O3Br0R3tFvND"
      },
      "id": "O3Br0R3tFvND"
    },
    {
      "cell_type": "code",
      "execution_count": null,
      "id": "89954db1",
      "metadata": {
        "colab": {
          "base_uri": "https://localhost:8080/"
        },
        "id": "89954db1",
        "outputId": "da1679e2-db44-44fc-cf53-66781895a03d"
      },
      "outputs": [
        {
          "output_type": "stream",
          "name": "stdout",
          "text": [
            "Downloading http://yann.lecun.com/exdb/mnist/train-images-idx3-ubyte.gz\n",
            "Failed to download (trying next):\n",
            "HTTP Error 403: Forbidden\n",
            "\n",
            "Downloading https://ossci-datasets.s3.amazonaws.com/mnist/train-images-idx3-ubyte.gz\n",
            "Downloading https://ossci-datasets.s3.amazonaws.com/mnist/train-images-idx3-ubyte.gz to MNIST_DATASET/MNIST/raw/train-images-idx3-ubyte.gz\n"
          ]
        },
        {
          "output_type": "stream",
          "name": "stderr",
          "text": [
            "100%|██████████| 9912422/9912422 [00:00<00:00, 34827295.79it/s]\n"
          ]
        },
        {
          "output_type": "stream",
          "name": "stdout",
          "text": [
            "Extracting MNIST_DATASET/MNIST/raw/train-images-idx3-ubyte.gz to MNIST_DATASET/MNIST/raw\n",
            "\n",
            "Downloading http://yann.lecun.com/exdb/mnist/train-labels-idx1-ubyte.gz\n",
            "Failed to download (trying next):\n",
            "HTTP Error 403: Forbidden\n",
            "\n",
            "Downloading https://ossci-datasets.s3.amazonaws.com/mnist/train-labels-idx1-ubyte.gz\n",
            "Downloading https://ossci-datasets.s3.amazonaws.com/mnist/train-labels-idx1-ubyte.gz to MNIST_DATASET/MNIST/raw/train-labels-idx1-ubyte.gz\n"
          ]
        },
        {
          "output_type": "stream",
          "name": "stderr",
          "text": [
            "100%|██████████| 28881/28881 [00:00<00:00, 1278908.91it/s]\n"
          ]
        },
        {
          "output_type": "stream",
          "name": "stdout",
          "text": [
            "Extracting MNIST_DATASET/MNIST/raw/train-labels-idx1-ubyte.gz to MNIST_DATASET/MNIST/raw\n",
            "\n",
            "Downloading http://yann.lecun.com/exdb/mnist/t10k-images-idx3-ubyte.gz\n",
            "Failed to download (trying next):\n",
            "HTTP Error 403: Forbidden\n",
            "\n",
            "Downloading https://ossci-datasets.s3.amazonaws.com/mnist/t10k-images-idx3-ubyte.gz\n",
            "Downloading https://ossci-datasets.s3.amazonaws.com/mnist/t10k-images-idx3-ubyte.gz to MNIST_DATASET/MNIST/raw/t10k-images-idx3-ubyte.gz\n"
          ]
        },
        {
          "output_type": "stream",
          "name": "stderr",
          "text": [
            "100%|██████████| 1648877/1648877 [00:00<00:00, 9500672.99it/s]\n"
          ]
        },
        {
          "output_type": "stream",
          "name": "stdout",
          "text": [
            "Extracting MNIST_DATASET/MNIST/raw/t10k-images-idx3-ubyte.gz to MNIST_DATASET/MNIST/raw\n",
            "\n",
            "Downloading http://yann.lecun.com/exdb/mnist/t10k-labels-idx1-ubyte.gz\n",
            "Failed to download (trying next):\n",
            "HTTP Error 403: Forbidden\n",
            "\n",
            "Downloading https://ossci-datasets.s3.amazonaws.com/mnist/t10k-labels-idx1-ubyte.gz\n",
            "Downloading https://ossci-datasets.s3.amazonaws.com/mnist/t10k-labels-idx1-ubyte.gz to MNIST_DATASET/MNIST/raw/t10k-labels-idx1-ubyte.gz\n"
          ]
        },
        {
          "output_type": "stream",
          "name": "stderr",
          "text": [
            "100%|██████████| 4542/4542 [00:00<00:00, 9343074.43it/s]\n"
          ]
        },
        {
          "output_type": "stream",
          "name": "stdout",
          "text": [
            "Extracting MNIST_DATASET/MNIST/raw/t10k-labels-idx1-ubyte.gz to MNIST_DATASET/MNIST/raw\n",
            "\n"
          ]
        }
      ],
      "source": [
        "from torchvision.datasets import MNIST\n",
        "\n",
        "download_root = 'MNIST_DATASET/' # 내려받을 경로\n",
        "\n",
        "train_dataset = MNIST(download_root, transform=mnist_transform, train=True, download=True) # 내려받을 위치, 전처리 적용, 훈련용 데이터셋, 내려받으려는 위치에 파일이 있다면 내려받지 않음\n",
        "valid_dataset = MNIST(download_root, transform=mnist_transform, train=False, download=True)\n",
        "test_dataset = MNIST(download_root, transform=mnist_transform, train=False, download=True)"
      ]
    },
    {
      "cell_type": "markdown",
      "source": [
        "### 데이터셋을 메모리로 가져오기"
      ],
      "metadata": {
        "id": "B0AynQ-DGOl9"
      },
      "id": "B0AynQ-DGOl9"
    },
    {
      "cell_type": "code",
      "execution_count": null,
      "id": "b1f7b5e0",
      "metadata": {
        "id": "b1f7b5e0"
      },
      "outputs": [],
      "source": [
        "batch_size = 64\n",
        "train_loader = DataLoader(dataset=train_dataset,\n",
        "                         batch_size=batch_size,\n",
        "                         shuffle=True)\n",
        "valid_loader = DataLoader(dataset=test_dataset,\n",
        "                         batch_size=batch_size,\n",
        "                         shuffle=True)\n",
        "test_loader = DataLoader(dataset=test_dataset,\n",
        "                         batch_size=batch_size,\n",
        "                         shuffle=True)"
      ]
    },
    {
      "cell_type": "markdown",
      "source": [
        "### 변수 값 지정 (배치 크기, 에포크)"
      ],
      "metadata": {
        "id": "QOe3pGFoGVAY"
      },
      "id": "QOe3pGFoGVAY"
    },
    {
      "cell_type": "code",
      "execution_count": null,
      "id": "398f4215",
      "metadata": {
        "id": "398f4215"
      },
      "outputs": [],
      "source": [
        "batch_size = 100\n",
        "n_iters = 6000 # 총 반복 횟수\n",
        "num_epochs = n_iters / (len(train_dataset) / batch_size)\n",
        "# len(train_dataset) : 훈련 데이터셋의 총 샘플 수\n",
        "# batch_size : 한 번에 모델을 통과시킬 샘플의 수\n",
        "# len(train_dataset) / batch_size : 한 번의 epoch에 필요한 배치 수\n",
        "# n_iters / (len(train_dataset) / batch_size) : n_iters 번의 반복을 완료하는 데 필요한 총 에폭 수\n",
        "num_epochs = int(num_epochs)"
      ]
    },
    {
      "cell_type": "markdown",
      "source": [
        "### LSTM 셀 네트워크 구축"
      ],
      "metadata": {
        "id": "m9Wgsj7bLm9t"
      },
      "id": "m9Wgsj7bLm9t"
    },
    {
      "cell_type": "code",
      "execution_count": null,
      "id": "f56f3138",
      "metadata": {
        "id": "f56f3138"
      },
      "outputs": [],
      "source": [
        "class LSTMCell(nn.Module):\n",
        "    def __init__(self, input_size, hidden_size, bias=True):\n",
        "        super(LSTMCell, self).__init__()\n",
        "        self.input_size = input_size\n",
        "        self.hidden_size = hidden_size\n",
        "        self.bias = bias\n",
        "        self.x2h = nn.Linear(input_size, 4 * hidden_size, bias=bias) # gates가 망각, 입력, 셀, 출력 4개로 쪼개지기 때문에 4를 곱한다\n",
        "        self.h2h = nn.Linear(hidden_size, 4 * hidden_size, bias=bias)\n",
        "        self.reset_parameters()\n",
        "\n",
        "    def reset_parameters(self): # 모델의 파라미터 초기화\n",
        "        std = 1.0 / math.sqrt(self.hidden_size) # 표준편차 계산\n",
        "        for w in self.parameters(): # 모든 파라미터에 대해 반복\n",
        "            w.data.uniform_(-std, std) # 균등 분포를 따르는 난수로 초기화\n",
        "\n",
        "    def forward(self, x, hidden):\n",
        "        hx, cx = hidden  # 은닉 상태와 셀 상태를 가져옴\n",
        "        x = x.view(-1, x.size(1))  # 입력 데이터를 2D 텐서로 변환\n",
        "\n",
        "        gates = self.x2h(x) + self.h2h(hx)  # 입력과 은닉 상태에 대한 선형 변환을 수행하여 gate 값을 계산\n",
        "        gates = gates.squeeze()  # 차원을 축소하여 차원을 맞춤\n",
        "        ingate, forgetgate, cellgate, outgate = gates.chunk(4, 1) # gate 값을 4개로 분할. 열 단위로 분할함\n",
        "\n",
        "        ingate = F.sigmoid(ingate)  # 입력 게이트의 활성화 함수 적용\n",
        "        forgetgate = F.sigmoid(forgetgate)  # 망각 게이트의 활성화 함수 적용\n",
        "        cellgate = F.tanh(cellgate)  # 셀 상태의 새로운 후보 값에 대한 하이퍼볼릭 탄젠트 활성화 함수 적용\n",
        "        outgate = F.sigmoid(outgate)  # 출력 게이트의 활성화 함수 적용\n",
        "\n",
        "        cy = torch.mul(cx, forgetgate) +  torch.mul(ingate, cellgate)  # 셀 상태 업데이트\n",
        "        hy = torch.mul(outgate, F.tanh(cy))  # 은닉 상태 업데이트\n",
        "        return (hy, cy)  # 새로운 은닉 상태와 셀 상태 반환\n"
      ]
    },
    {
      "cell_type": "markdown",
      "source": [
        "### LSTM 셀의 전반적인 네트워크"
      ],
      "metadata": {
        "id": "4e2P55-FSW6M"
      },
      "id": "4e2P55-FSW6M"
    },
    {
      "cell_type": "code",
      "execution_count": null,
      "id": "e4cfc2b1",
      "metadata": {
        "id": "e4cfc2b1"
      },
      "outputs": [],
      "source": [
        "class LSTMModel(nn.Module):\n",
        "    def __init__(self, input_dim, hidden_dim, layer_dim, output_dim, bias=True):\n",
        "        super(LSTMModel, self).__init__()\n",
        "        self.hidden_dim = hidden_dim  # 은닉 상태의 차원 수\n",
        "        self.layer_dim = layer_dim  # LSTM 층의 수\n",
        "        self.lstm = LSTMCell(input_dim, hidden_dim, layer_dim)  # LSTM 셀 정의\n",
        "        self.fc = nn.Linear(hidden_dim, output_dim)  # 출력층 정의\n",
        "\n",
        "    def forward(self, x):\n",
        "        # 초기 은닉 상태 및 셀 상태 생성\n",
        "        if torch.cuda.is_available(): # GPU 사용 유무 확인\n",
        "            # (은닉층의 계층 개수, 배치 크기, 은닉층의 뉴런 개수) 형태를 갖는 은닉 상태를 0으로 초기화\n",
        "            h0 = Variable(torch.zeros(self.layer_dim, x.size(0), self.hidden_dim).cuda())\n",
        "        else:\n",
        "            h0 = Variable(torch.zeros(self.layer_dim, x.size(0), self.hidden_dim))\n",
        "\n",
        "        if torch.cuda.is_available(): # GPU 사용 유무 확인\n",
        "            # (은닉층의 계층 개수, 배치 크기, 은닉층의 뉴런 개수) 형태를 갖는 셀 상태를 0으로 초기화\n",
        "            c0 = Variable(torch.zeros(self.layer_dim, x.size(0), self.hidden_dim).cuda())\n",
        "        else:\n",
        "            c0 = Variable(torch.zeros(self.layer_dim, x.size(0), self.hidden_dim))\n",
        "\n",
        "        outs = []\n",
        "        cn = c0[0,:,:]  # (은닉층의 계층 개수, 배치 크기, 은닉층의 뉴런 개수) 형태를 갖는 셀 상태에 대한 텐서\n",
        "        hn = h0[0,:,:]  # (은닉층의 계층 개수, 배치 크기, 은닉층의 뉴런 개수) 형태를 갖는 은닉 상태에 대한 텐서\n",
        "\n",
        "        # 시퀀스 데이터를 반복하여 모델을 통과시킴\n",
        "        for seq in range(x.size(1)): # LSTM 셀 계층을 반복하여 쌓아 올린다\n",
        "            hn, cn = self.lstm(x[:,seq,:], (hn, cn))  # 은닉 상태(hn)와 셀 상태를 LSTMCell에 적용한 결과를 또다시 hn, cn에 저장\n",
        "            outs.append(hn)  # 각 시퀀스의 출력을 저장\n",
        "\n",
        "        out = outs[-1].squeeze()  # 마지막 시퀀스의 출력만 선택하여 2D 텐서로 변환\n",
        "        out = self.fc(out)  # 출력층을 통과하여 최종 출력 생성\n",
        "        return out  # 최종 출력 반환\n"
      ]
    },
    {
      "cell_type": "markdown",
      "source": [
        "### 옵티마이저와 손실 함수 지정"
      ],
      "metadata": {
        "id": "lL6d1u2QUwbk"
      },
      "id": "lL6d1u2QUwbk"
    },
    {
      "cell_type": "code",
      "execution_count": null,
      "id": "6cf2c9e9",
      "metadata": {
        "id": "6cf2c9e9"
      },
      "outputs": [],
      "source": [
        "input_dim = 28\n",
        "hidden_dim = 128\n",
        "layer_dim = 1\n",
        "output_dim = 10\n",
        "\n",
        "model = LSTMModel(input_dim, hidden_dim, layer_dim, output_dim)\n",
        "if torch.cuda.is_available(): # GPU 사용 유무 확인\n",
        "    model.cuda()\n",
        "criterion = nn.CrossEntropyLoss()\n",
        "learning_rate = 0.1\n",
        "optimizer = torch.optim.SGD(model.parameters(), lr=learning_rate)"
      ]
    },
    {
      "cell_type": "markdown",
      "source": [
        "### 모델 학습 및 성능 확인"
      ],
      "metadata": {
        "id": "giCzgPHiU84e"
      },
      "id": "giCzgPHiU84e"
    },
    {
      "cell_type": "code",
      "execution_count": null,
      "id": "d7a6949f",
      "metadata": {
        "colab": {
          "base_uri": "https://localhost:8080/"
        },
        "id": "d7a6949f",
        "outputId": "d1844e35-5484-413d-e9e8-79cbecbca5d5"
      },
      "outputs": [
        {
          "output_type": "stream",
          "name": "stdout",
          "text": [
            "Iteration: 500. Loss: 2.237457275390625. Accuracy: 21.420000076293945\n",
            "Iteration: 1000. Loss: 0.9968994855880737. Accuracy: 74.94999694824219\n",
            "Iteration: 1500. Loss: 0.42673957347869873. Accuracy: 88.13999938964844\n",
            "Iteration: 2000. Loss: 0.30981600284576416. Accuracy: 93.56999969482422\n",
            "Iteration: 2500. Loss: 0.0558248832821846. Accuracy: 95.69000244140625\n",
            "Iteration: 3000. Loss: 0.09873700886964798. Accuracy: 95.58000183105469\n",
            "Iteration: 3500. Loss: 0.08254366368055344. Accuracy: 96.8499984741211\n",
            "Iteration: 4000. Loss: 0.03308983892202377. Accuracy: 97.08000183105469\n",
            "Iteration: 4500. Loss: 0.049307383596897125. Accuracy: 97.08000183105469\n",
            "Iteration: 5000. Loss: 0.08068697154521942. Accuracy: 96.69999694824219\n",
            "Iteration: 5500. Loss: 0.12790139019489288. Accuracy: 97.30999755859375\n",
            "Iteration: 6000. Loss: 0.007093742024153471. Accuracy: 97.66000366210938\n",
            "Iteration: 6500. Loss: 0.011727366596460342. Accuracy: 97.63999938964844\n",
            "Iteration: 7000. Loss: 0.008610538206994534. Accuracy: 98.06999969482422\n",
            "Iteration: 7500. Loss: 0.027341270819306374. Accuracy: 97.8499984741211\n",
            "Iteration: 8000. Loss: 0.10305538773536682. Accuracy: 97.5199966430664\n",
            "Iteration: 8500. Loss: 0.007204337045550346. Accuracy: 98.13999938964844\n",
            "Iteration: 9000. Loss: 0.012087937444448471. Accuracy: 97.4800033569336\n"
          ]
        }
      ],
      "source": [
        "seq_dim = 28  # 시퀀스 길이 (입력 시퀀스의 길이 = 이미지의 높이)\n",
        "loss_list = []  # 손실 함수 값 기록 리스트\n",
        "iter = 0  # 반복 횟수 초기화\n",
        "\n",
        "for epoch in range(num_epochs):  # 주어진 에폭 수만큼 반복\n",
        "    for i, (images, labels) in enumerate(train_loader):  # 훈련 데이터셋을 이용한 모델 학습\n",
        "        if torch.cuda.is_available():  # GPU 사용 가능 여부 확인\n",
        "            images = Variable(images.view(-1, seq_dim, input_dim).cuda())  # 이미지를 모델에 맞는 형태로 변환하여 GPU에 할당\n",
        "            labels = Variable(labels.cuda())  # 레이블을 GPU에 할당\n",
        "        else:  # GPU를 사용하지 않는 경우\n",
        "            images = Variable(images.view(-1, seq_dim, input_dim))  # 이미지를 모델에 맞는 형태로 변환\n",
        "            labels = Variable(labels)  # 레이블을 변수로 변환\n",
        "\n",
        "        optimizer.zero_grad()  # 기울기 초기화\n",
        "        outputs = model(images)  # 모델을 통해 출력 계산\n",
        "        loss = criterion(outputs, labels)  # 손실 함수를 이용하여 오차 계산\n",
        "\n",
        "        if torch.cuda.is_available():  # GPU 사용 가능 여부 확인\n",
        "            loss.cuda()  # 손실을 GPU에 할당\n",
        "\n",
        "        loss.backward()  # 역전파 수행\n",
        "        optimizer.step()  # 파라미터 업데이트\n",
        "        loss_list.append(loss.item())  # 손실 값을 리스트에 저장\n",
        "        iter += 1  # 반복 횟수 증가\n",
        "\n",
        "        if iter % 500 == 0:  # 일정 주기마다 정확도 계산\n",
        "            correct = 0\n",
        "            total = 0\n",
        "            for images, labels in valid_loader:  # 검증 데이터셋을 이용하여 모델 성능 검증\n",
        "                if torch.cuda.is_available():  # GPU 사용 가능 여부 확인\n",
        "                    images = Variable(images.view(-1, seq_dim, input_dim).cuda())  # 이미지를 모델에 맞는 형태로 변환하여 GPU에 할당\n",
        "                else:  # GPU를 사용하지 않는 경우\n",
        "                    images = Variable(images.view(-1 , seq_dim, input_dim))  # 이미지를 모델에 맞는 형태로 변환\n",
        "\n",
        "                outputs = model(images)  # 모델을 통해 출력 계산\n",
        "                _, predicted = torch.max(outputs.data, 1)  # 모델을 통과한 결과의 최댓값으로부터 예측 결과 가져오기\n",
        "\n",
        "                total += labels.size(0)  # 총 레이블 수\n",
        "                if torch.cuda.is_available():  # GPU 사용 가능 여부 확인\n",
        "                    correct += (predicted.cpu() == labels.cpu()).sum()  # 정확하게 예측된 레이블 수 계산\n",
        "                else:  # GPU를 사용하지 않는 경우\n",
        "                    correct += (predicted == labels).sum()  # 정확하게 예측된 레이블 수 계산\n",
        "\n",
        "            accuracy = 100 * correct / total  # 정확도 계산\n",
        "            print('Iteration: {}. Loss: {}. Accuracy: {}'.format(iter, loss.item(), accuracy))  # 현재 반복 횟수, 손실 값, 정확도 출력\n"
      ]
    },
    {
      "cell_type": "markdown",
      "source": [
        "### 테스트 데이터셋을 이용한 모델 예측 성능 확인"
      ],
      "metadata": {
        "id": "SnkzBN0JZ-VY"
      },
      "id": "SnkzBN0JZ-VY"
    },
    {
      "cell_type": "code",
      "execution_count": null,
      "id": "c4f0348f",
      "metadata": {
        "id": "c4f0348f"
      },
      "outputs": [],
      "source": [
        "def evaluate(model, val_iter):\n",
        "    corrects, total, total_loss = 0, 0, 0\n",
        "    model.eval()  # 모델을 평가 모드로 설정\n",
        "    for images, labels in val_iter:  # 검증 데이터셋을 이용하여 모델 성능 평가\n",
        "        if torch.cuda.is_available():  # GPU 사용 가능 여부 확인\n",
        "            images = Variable(images.view(-1, seq_dim, input_dim).cuda())  # 이미지를 모델에 맞는 형태로 변환하여 GPU에 할당\n",
        "        else:  # GPU를 사용하지 않는 경우\n",
        "            images = Variable(images.view(-1 , seq_dim, input_dim)).to(device)  # 이미지를 모델에 맞는 형태로 변환하여 디바이스에 할당\n",
        "        labels = labels.cuda()  # 레이블을 GPU에 할당\n",
        "\n",
        "        logit = model(images).cuda()  # 모델을 통해 로짓 계산. 로짓 : 각 클래스에 대한 점수\n",
        "        loss = F.cross_entropy(logit, labels, reduction=\"sum\")  # 손실 계산\n",
        "        _, predicted = torch.max(logit.data, 1)  # 모델을 통과한 결과의 최댓값으로부터 예측 결과 가져오기\n",
        "        total += labels.size(0)  # 총 레이블 수 업데이트\n",
        "        total_loss += loss.item()  # 총 손실 업데이트\n",
        "        corrects += (predicted == labels).sum()  # 정확하게 예측된 레이블 수 업데이트\n",
        "\n",
        "    avg_loss = total_loss / len(val_iter.dataset)  # 평균 손실 계산\n",
        "    avg_accuracy = corrects / total  # 평균 정확도 계산\n",
        "    return avg_loss, avg_accuracy  # 평균 손실과 평균 정확도 반환"
      ]
    },
    {
      "cell_type": "markdown",
      "source": [
        "### 모델 예측 성능 확인"
      ],
      "metadata": {
        "id": "z7zPrOEqaxgl"
      },
      "id": "z7zPrOEqaxgl"
    },
    {
      "cell_type": "code",
      "execution_count": null,
      "id": "edb78da9",
      "metadata": {
        "colab": {
          "base_uri": "https://localhost:8080/"
        },
        "id": "edb78da9",
        "outputId": "9b6df888-8c8a-4fcf-c082-b0bc89dba70f"
      },
      "outputs": [
        {
          "output_type": "stream",
          "name": "stdout",
          "text": [
            "Test Loss:  0.07 | Test Accuracy:  0.98\n"
          ]
        }
      ],
      "source": [
        "test_loss, test_acc = evaluate(model,test_loader)\n",
        "print(\"Test Loss: %5.2f | Test Accuracy: %5.2f\" % (test_loss, test_acc))"
      ]
    },
    {
      "cell_type": "markdown",
      "source": [
        "# 7.5.3 LSTM 계층 구현"
      ],
      "metadata": {
        "id": "oVXXM_cCa5ri"
      },
      "id": "oVXXM_cCa5ri"
    },
    {
      "cell_type": "markdown",
      "source": [
        "### 라이브러리 호출"
      ],
      "metadata": {
        "id": "ymT86Px2bA7X"
      },
      "id": "ymT86Px2bA7X"
    },
    {
      "cell_type": "code",
      "execution_count": null,
      "id": "1406725d",
      "metadata": {
        "id": "1406725d"
      },
      "outputs": [],
      "source": [
        "import os\n",
        "import time\n",
        "\n",
        "import numpy as np\n",
        "import pandas as pd\n",
        "import matplotlib.pyplot as plt\n",
        "\n",
        "import torch\n",
        "import torch.nn as nn\n",
        "from torch.utils.data import TensorDataset, DataLoader\n",
        "from torch.autograd import Variable\n",
        "from tqdm import tqdm_notebook\n",
        "from sklearn.preprocessing import StandardScaler, MinMaxScaler\n",
        "from sklearn.model_selection import train_test_split\n",
        "\n",
        "device = torch.device('cuda:0' if torch.cuda.is_available() else 'cpu')"
      ]
    },
    {
      "cell_type": "markdown",
      "source": [
        "### 데이터셋 가져오기 (스타벅스 주가 데이터)"
      ],
      "metadata": {
        "id": "4oKgtEi3bdbe"
      },
      "id": "4oKgtEi3bdbe"
    },
    {
      "cell_type": "code",
      "execution_count": null,
      "id": "3a5b6445",
      "metadata": {
        "colab": {
          "base_uri": "https://localhost:8080/",
          "height": 224
        },
        "id": "3a5b6445",
        "outputId": "827060ce-4958-4b55-c3a3-940aa0dade52"
      },
      "outputs": [
        {
          "output_type": "display_data",
          "data": {
            "text/plain": [
              "<IPython.core.display.HTML object>"
            ],
            "text/html": [
              "\n",
              "     <input type=\"file\" id=\"files-090f21ab-1c2e-47ac-b226-783950579b21\" name=\"files[]\" multiple disabled\n",
              "        style=\"border:none\" />\n",
              "     <output id=\"result-090f21ab-1c2e-47ac-b226-783950579b21\">\n",
              "      Upload widget is only available when the cell has been executed in the\n",
              "      current browser session. Please rerun this cell to enable.\n",
              "      </output>\n",
              "      <script>// Copyright 2017 Google LLC\n",
              "//\n",
              "// Licensed under the Apache License, Version 2.0 (the \"License\");\n",
              "// you may not use this file except in compliance with the License.\n",
              "// You may obtain a copy of the License at\n",
              "//\n",
              "//      http://www.apache.org/licenses/LICENSE-2.0\n",
              "//\n",
              "// Unless required by applicable law or agreed to in writing, software\n",
              "// distributed under the License is distributed on an \"AS IS\" BASIS,\n",
              "// WITHOUT WARRANTIES OR CONDITIONS OF ANY KIND, either express or implied.\n",
              "// See the License for the specific language governing permissions and\n",
              "// limitations under the License.\n",
              "\n",
              "/**\n",
              " * @fileoverview Helpers for google.colab Python module.\n",
              " */\n",
              "(function(scope) {\n",
              "function span(text, styleAttributes = {}) {\n",
              "  const element = document.createElement('span');\n",
              "  element.textContent = text;\n",
              "  for (const key of Object.keys(styleAttributes)) {\n",
              "    element.style[key] = styleAttributes[key];\n",
              "  }\n",
              "  return element;\n",
              "}\n",
              "\n",
              "// Max number of bytes which will be uploaded at a time.\n",
              "const MAX_PAYLOAD_SIZE = 100 * 1024;\n",
              "\n",
              "function _uploadFiles(inputId, outputId) {\n",
              "  const steps = uploadFilesStep(inputId, outputId);\n",
              "  const outputElement = document.getElementById(outputId);\n",
              "  // Cache steps on the outputElement to make it available for the next call\n",
              "  // to uploadFilesContinue from Python.\n",
              "  outputElement.steps = steps;\n",
              "\n",
              "  return _uploadFilesContinue(outputId);\n",
              "}\n",
              "\n",
              "// This is roughly an async generator (not supported in the browser yet),\n",
              "// where there are multiple asynchronous steps and the Python side is going\n",
              "// to poll for completion of each step.\n",
              "// This uses a Promise to block the python side on completion of each step,\n",
              "// then passes the result of the previous step as the input to the next step.\n",
              "function _uploadFilesContinue(outputId) {\n",
              "  const outputElement = document.getElementById(outputId);\n",
              "  const steps = outputElement.steps;\n",
              "\n",
              "  const next = steps.next(outputElement.lastPromiseValue);\n",
              "  return Promise.resolve(next.value.promise).then((value) => {\n",
              "    // Cache the last promise value to make it available to the next\n",
              "    // step of the generator.\n",
              "    outputElement.lastPromiseValue = value;\n",
              "    return next.value.response;\n",
              "  });\n",
              "}\n",
              "\n",
              "/**\n",
              " * Generator function which is called between each async step of the upload\n",
              " * process.\n",
              " * @param {string} inputId Element ID of the input file picker element.\n",
              " * @param {string} outputId Element ID of the output display.\n",
              " * @return {!Iterable<!Object>} Iterable of next steps.\n",
              " */\n",
              "function* uploadFilesStep(inputId, outputId) {\n",
              "  const inputElement = document.getElementById(inputId);\n",
              "  inputElement.disabled = false;\n",
              "\n",
              "  const outputElement = document.getElementById(outputId);\n",
              "  outputElement.innerHTML = '';\n",
              "\n",
              "  const pickedPromise = new Promise((resolve) => {\n",
              "    inputElement.addEventListener('change', (e) => {\n",
              "      resolve(e.target.files);\n",
              "    });\n",
              "  });\n",
              "\n",
              "  const cancel = document.createElement('button');\n",
              "  inputElement.parentElement.appendChild(cancel);\n",
              "  cancel.textContent = 'Cancel upload';\n",
              "  const cancelPromise = new Promise((resolve) => {\n",
              "    cancel.onclick = () => {\n",
              "      resolve(null);\n",
              "    };\n",
              "  });\n",
              "\n",
              "  // Wait for the user to pick the files.\n",
              "  const files = yield {\n",
              "    promise: Promise.race([pickedPromise, cancelPromise]),\n",
              "    response: {\n",
              "      action: 'starting',\n",
              "    }\n",
              "  };\n",
              "\n",
              "  cancel.remove();\n",
              "\n",
              "  // Disable the input element since further picks are not allowed.\n",
              "  inputElement.disabled = true;\n",
              "\n",
              "  if (!files) {\n",
              "    return {\n",
              "      response: {\n",
              "        action: 'complete',\n",
              "      }\n",
              "    };\n",
              "  }\n",
              "\n",
              "  for (const file of files) {\n",
              "    const li = document.createElement('li');\n",
              "    li.append(span(file.name, {fontWeight: 'bold'}));\n",
              "    li.append(span(\n",
              "        `(${file.type || 'n/a'}) - ${file.size} bytes, ` +\n",
              "        `last modified: ${\n",
              "            file.lastModifiedDate ? file.lastModifiedDate.toLocaleDateString() :\n",
              "                                    'n/a'} - `));\n",
              "    const percent = span('0% done');\n",
              "    li.appendChild(percent);\n",
              "\n",
              "    outputElement.appendChild(li);\n",
              "\n",
              "    const fileDataPromise = new Promise((resolve) => {\n",
              "      const reader = new FileReader();\n",
              "      reader.onload = (e) => {\n",
              "        resolve(e.target.result);\n",
              "      };\n",
              "      reader.readAsArrayBuffer(file);\n",
              "    });\n",
              "    // Wait for the data to be ready.\n",
              "    let fileData = yield {\n",
              "      promise: fileDataPromise,\n",
              "      response: {\n",
              "        action: 'continue',\n",
              "      }\n",
              "    };\n",
              "\n",
              "    // Use a chunked sending to avoid message size limits. See b/62115660.\n",
              "    let position = 0;\n",
              "    do {\n",
              "      const length = Math.min(fileData.byteLength - position, MAX_PAYLOAD_SIZE);\n",
              "      const chunk = new Uint8Array(fileData, position, length);\n",
              "      position += length;\n",
              "\n",
              "      const base64 = btoa(String.fromCharCode.apply(null, chunk));\n",
              "      yield {\n",
              "        response: {\n",
              "          action: 'append',\n",
              "          file: file.name,\n",
              "          data: base64,\n",
              "        },\n",
              "      };\n",
              "\n",
              "      let percentDone = fileData.byteLength === 0 ?\n",
              "          100 :\n",
              "          Math.round((position / fileData.byteLength) * 100);\n",
              "      percent.textContent = `${percentDone}% done`;\n",
              "\n",
              "    } while (position < fileData.byteLength);\n",
              "  }\n",
              "\n",
              "  // All done.\n",
              "  yield {\n",
              "    response: {\n",
              "      action: 'complete',\n",
              "    }\n",
              "  };\n",
              "}\n",
              "\n",
              "scope.google = scope.google || {};\n",
              "scope.google.colab = scope.google.colab || {};\n",
              "scope.google.colab._files = {\n",
              "  _uploadFiles,\n",
              "  _uploadFilesContinue,\n",
              "};\n",
              "})(self);\n",
              "</script> "
            ]
          },
          "metadata": {}
        },
        {
          "output_type": "stream",
          "name": "stdout",
          "text": [
            "Saving SBUX.csv to SBUX.csv\n",
            "Date          object\n",
            "Open         float64\n",
            "High         float64\n",
            "Low          float64\n",
            "Close        float64\n",
            "Adj Close    float64\n",
            "Volume         int64\n",
            "dtype: object\n"
          ]
        }
      ],
      "source": [
        "from google.colab import files # 데이터 불러오기\n",
        "file_uploaded=files.upload()   # chap07/data/SUBX.csv 데이터 불러오기\n",
        "data=pd.read_csv('SBUX.csv')\n",
        "print(data.dtypes)"
      ]
    },
    {
      "cell_type": "markdown",
      "source": [
        "### 날짜 칼럼을 인덱스로 사용"
      ],
      "metadata": {
        "id": "li7lFTpLcOMc"
      },
      "id": "li7lFTpLcOMc"
    },
    {
      "cell_type": "code",
      "execution_count": null,
      "id": "e2f0dcbb",
      "metadata": {
        "id": "e2f0dcbb"
      },
      "outputs": [],
      "source": [
        "data['Date'] = pd.to_datetime(data['Date']) # Date 열의 데이터를 날짜(datetime) 형식으로 변환\n",
        "data.set_index('Date', inplace=True) # date 칼럼을 인덱스로 사용"
      ]
    },
    {
      "cell_type": "markdown",
      "source": [
        "### 데이터 형식 변경"
      ],
      "metadata": {
        "id": "-IDOfwi2cpwp"
      },
      "id": "-IDOfwi2cpwp"
    },
    {
      "cell_type": "code",
      "execution_count": null,
      "id": "95bd883e",
      "metadata": {
        "id": "95bd883e"
      },
      "outputs": [],
      "source": [
        "data['Volume'] = data['Volume'].astype(float) # 정수(int) -> 실수(float)"
      ]
    },
    {
      "cell_type": "markdown",
      "source": [
        "### 훈련과 레이블 분리"
      ],
      "metadata": {
        "id": "YQQl4Fakc3v_"
      },
      "id": "YQQl4Fakc3v_"
    },
    {
      "cell_type": "code",
      "execution_count": null,
      "id": "1fbc963d",
      "metadata": {
        "colab": {
          "base_uri": "https://localhost:8080/"
        },
        "id": "1fbc963d",
        "outputId": "832a8d31-5815-4023-a689-a49ef337dc08"
      },
      "outputs": [
        {
          "output_type": "stream",
          "name": "stdout",
          "text": [
            "                  Open        High         Low       Close   Adj Close\n",
            "Date                                                                  \n",
            "2023-05-10  107.160004  108.110001  105.680000  106.970001  104.667084\n",
            "2023-05-11  106.440002  106.760002  105.120003  105.629997  103.870567\n",
            "2023-05-12  105.760002  106.220001  104.830002  106.120003  104.352417\n",
            "2023-05-15  106.110001  106.760002  105.610001  106.639999  104.863747\n",
            "2023-05-16  106.410004  106.559998  105.199997  105.279999  103.526405\n",
            "...                ...         ...         ...         ...         ...\n",
            "2024-05-03   75.269997   75.510002   72.989998   73.110001   73.110001\n",
            "2024-05-06   73.309998   74.190002   72.699997   72.900002   72.900002\n",
            "2024-05-07   72.849998   72.849998   71.800003   72.500000   72.500000\n",
            "2024-05-08   72.290001   74.470001   72.250000   73.500000   73.500000\n",
            "2024-05-09   73.570000   75.760002   73.070000   75.680000   75.680000\n",
            "\n",
            "[252 rows x 5 columns]\n",
            "                Volume\n",
            "Date                  \n",
            "2023-05-10   4565000.0\n",
            "2023-05-11   4791700.0\n",
            "2023-05-12   5167600.0\n",
            "2023-05-15   4217000.0\n",
            "2023-05-16   3676600.0\n",
            "...                ...\n",
            "2024-05-03  22153800.0\n",
            "2024-05-06  18632200.0\n",
            "2024-05-07  21901300.0\n",
            "2024-05-08  24482600.0\n",
            "2024-05-09  18573800.0\n",
            "\n",
            "[252 rows x 1 columns]\n"
          ]
        }
      ],
      "source": [
        "X=data.iloc[:,:-1] # 마지막 칼럼을 제외한 모든 칼럼을 x로 사용\n",
        "y=data.iloc[:,5:6] # 마지막 'Volume'을 레이블로 사용\n",
        "print(X)\n",
        "print(y)"
      ]
    },
    {
      "cell_type": "markdown",
      "source": [
        "### 데이터 분포 조정"
      ],
      "metadata": {
        "id": "WdR10AnpdT-S"
      },
      "id": "WdR10AnpdT-S"
    },
    {
      "cell_type": "code",
      "execution_count": null,
      "id": "4b661d47",
      "metadata": {
        "colab": {
          "base_uri": "https://localhost:8080/"
        },
        "id": "4b661d47",
        "outputId": "114ca12a-ac8a-4e6a-a535-e746e08ce772"
      },
      "outputs": [
        {
          "output_type": "stream",
          "name": "stdout",
          "text": [
            "Training Shape (200, 5) (200, 1)\n",
            "Testing Shape (52, 5) (52, 1)\n"
          ]
        }
      ],
      "source": [
        "ms = MinMaxScaler() # 데이터의 모든 값이 0~1 사이에 존재하도록 분산 조정\n",
        "ss = StandardScaler() # 데이터가 평균 0, 분산 1이 되도록 분산 조정\n",
        "\n",
        "X_ss = ss.fit_transform(X)\n",
        "y_ms = ms.fit_transform(y)\n",
        "\n",
        "X_train = X_ss[:200, :] # 훈련 데이터셋\n",
        "X_test = X_ss[200:, :] # 테스트 데이터셋\n",
        "\n",
        "y_train = y_ms[:200, :]\n",
        "y_test = y_ms[200:, :]\n",
        "\n",
        "print(\"Training Shape\", X_train.shape, y_train.shape) # 훈련 데이터셋은 200개의 데이터와 5개의 칼럼으로 구성되어 있다\n",
        "print(\"Testing Shape\", X_test.shape, y_test.shape) # 테스트 데이터셋은 52개의 데이터와 1개의 칼럼으로 구성되어 있다"
      ]
    },
    {
      "cell_type": "markdown",
      "source": [
        "### 데이터셋의 형태 및 크기 조정"
      ],
      "metadata": {
        "id": "8x-iuSp3d-n0"
      },
      "id": "8x-iuSp3d-n0"
    },
    {
      "cell_type": "code",
      "execution_count": null,
      "id": "74296760",
      "metadata": {
        "colab": {
          "base_uri": "https://localhost:8080/"
        },
        "id": "74296760",
        "outputId": "bae5d3d0-e0dc-4052-be66-8c554615f84c"
      },
      "outputs": [
        {
          "output_type": "stream",
          "name": "stdout",
          "text": [
            "Training Shape torch.Size([200, 1, 5]) torch.Size([200, 1])\n",
            "Testing Shape torch.Size([52, 1, 5]) torch.Size([52, 1])\n"
          ]
        }
      ],
      "source": [
        "X_train_tensors = Variable(torch.Tensor(X_train)) # Variable로 감싸진 텐서는 .backward()가 호출될 때 자동으로 기울기가 계산\n",
        "X_test_tensors = Variable(torch.Tensor(X_test))\n",
        "\n",
        "y_train_tensors = Variable(torch.Tensor(y_train))\n",
        "y_test_tensors = Variable(torch.Tensor(y_test))\n",
        "\n",
        "# 훈련 데이터셋(X_train_tensors)의 형태 (200, 5)를 (200, 1, 5)로 변경하겠다는 의미\n",
        "# LSTM 네트워크의 입력 형태와 맞추기 위함이다\n",
        "X_train_tensors_f = torch.reshape(X_train_tensors,   (X_train_tensors.shape[0], 1, X_train_tensors.shape[1]))\n",
        "X_test_tensors_f = torch.reshape(X_test_tensors,  (X_test_tensors.shape[0], 1, X_test_tensors.shape[1]))\n",
        "\n",
        "print(\"Training Shape\", X_train_tensors_f.shape, y_train_tensors.shape)\n",
        "print(\"Testing Shape\", X_test_tensors_f.shape, y_test_tensors.shape)"
      ]
    },
    {
      "cell_type": "markdown",
      "source": [
        "### LSTM 네트워크"
      ],
      "metadata": {
        "id": "NXzFf87xfckr"
      },
      "id": "NXzFf87xfckr"
    },
    {
      "cell_type": "code",
      "execution_count": null,
      "id": "909e709f",
      "metadata": {
        "id": "909e709f"
      },
      "outputs": [],
      "source": [
        "class LSTM(nn.Module):\n",
        "    def __init__(self, num_classes, input_size, hidden_size, num_layers, seq_length):\n",
        "        super(LSTM, self).__init__()\n",
        "        self.num_classes = num_classes # 클래스 개수\n",
        "        self.num_layers = num_layers # LSTM 계층의 개수\n",
        "        self.input_size = input_size # 입력 크기로 훈련 데이터셋의 칼럼 개수를 의미\n",
        "        self.hidden_size = hidden_size # 은닉층의 뉴런 개수\n",
        "        self.seq_length = seq_length # 시퀀스 길이\n",
        "\n",
        "        self.lstm = nn.LSTM(input_size=input_size, hidden_size=hidden_size,\n",
        "                          num_layers=num_layers, batch_first=True) # LSTM 계층\n",
        "        self.fc_1 =  nn.Linear(hidden_size, 128) # 완전연결층\n",
        "        self.fc = nn.Linear(128, num_classes) # 출력층\n",
        "\n",
        "        self.relu = nn.ReLU()\n",
        "\n",
        "    def forward(self,x):\n",
        "        h_0 = Variable(torch.zeros(self.num_layers, x.size(0), self.hidden_size)) # 은닉 상태를 0으로 초기화\n",
        "        c_0 = Variable(torch.zeros(self.num_layers, x.size(0), self.hidden_size)) # 셀 상태를 0으로 초기화\n",
        "\n",
        "        output, (hn, cn) = self.lstm(x, (h_0, c_0)) # LSTM 계층에 은닉 상태와 셀 상태 적용\n",
        "        hn = hn.view(-1, self.hidden_size) # 완전연결층 적용을 위해 데이터의 형태 조정(1차원으로 조정)\n",
        "        out = self.relu(hn)\n",
        "        out = self.fc_1(out)\n",
        "        out = self.relu(out)\n",
        "        out = self.fc(out)\n",
        "        return out"
      ]
    },
    {
      "cell_type": "markdown",
      "source": [
        "### 변수 값 설정"
      ],
      "metadata": {
        "id": "FpOWaDc9hYjF"
      },
      "id": "FpOWaDc9hYjF"
    },
    {
      "cell_type": "code",
      "execution_count": null,
      "id": "d22c6f7e",
      "metadata": {
        "id": "d22c6f7e"
      },
      "outputs": [],
      "source": [
        "num_epochs = 1000\n",
        "learning_rate = 0.0001\n",
        "\n",
        "input_size = 5 # 입력 데이터셋의 칼럼(feature) 개수\n",
        "hidden_size = 2 # 은닉층의 유닛 개수\n",
        "num_layers = 1 # LSTM 계층의 개수\n",
        "\n",
        "num_classes = 1 # 클래스 개수\n",
        "model = LSTM(num_classes, input_size, hidden_size, num_layers, X_train_tensors_f.shape[1]) # 앞에서 정의한 값들을 이용하여 LSTM 모델 학습\n",
        "\n",
        "criterion = torch.nn.MSELoss()\n",
        "optimizer = torch.optim.Adam(model.parameters(), lr=learning_rate)"
      ]
    },
    {
      "cell_type": "markdown",
      "source": [
        "### 모델 학습"
      ],
      "metadata": {
        "id": "1NsBWVy6hsQA"
      },
      "id": "1NsBWVy6hsQA"
    },
    {
      "cell_type": "code",
      "execution_count": null,
      "id": "0af6961c",
      "metadata": {
        "colab": {
          "base_uri": "https://localhost:8080/"
        },
        "id": "0af6961c",
        "outputId": "a1c3de5a-6546-42f7-dfb3-0d27fe729c48"
      },
      "outputs": [
        {
          "output_type": "stream",
          "name": "stdout",
          "text": [
            "Epoch: 0, loss: 0.00286\n",
            "Epoch: 100, loss: 0.00277\n",
            "Epoch: 200, loss: 0.00276\n",
            "Epoch: 300, loss: 0.00275\n",
            "Epoch: 400, loss: 0.00274\n",
            "Epoch: 500, loss: 0.00273\n",
            "Epoch: 600, loss: 0.00272\n",
            "Epoch: 700, loss: 0.00269\n",
            "Epoch: 800, loss: 0.00267\n",
            "Epoch: 900, loss: 0.00265\n"
          ]
        }
      ],
      "source": [
        "for epoch in range(num_epochs): # 1000번 반복\n",
        "    outputs = model.forward(X_train_tensors_f) # 전방향 학습\n",
        "    optimizer.zero_grad()\n",
        "    loss = criterion(outputs, y_train_tensors) # 손실 함수를 이용한 오차 계산\n",
        "    loss.backward() # 기울기 계산\n",
        "\n",
        "    optimizer.step() # 오차 업데이트\n",
        "    if epoch % 100 == 0:\n",
        "        print(\"Epoch: %d, loss: %1.5f\" % (epoch, loss.item()))"
      ]
    },
    {
      "cell_type": "markdown",
      "source": [
        "### 모델 예측 결과를 출력하기 위한 데이터 크기 재구성"
      ],
      "metadata": {
        "id": "rYxZpoyih-1B"
      },
      "id": "rYxZpoyih-1B"
    },
    {
      "cell_type": "code",
      "execution_count": null,
      "id": "18ab26f7",
      "metadata": {
        "id": "18ab26f7"
      },
      "outputs": [],
      "source": [
        "df_x_ss = ss.transform(data.iloc[:, :-1]) # 데이터 정규화. 평균을 0, 표준 편차를 1로 만들어\n",
        "df_y_ms = ms.transform(data.iloc[:, -1:])\n",
        "\n",
        "df_x_ss = Variable(torch.Tensor(df_x_ss))\n",
        "df_y_ms = Variable(torch.Tensor(df_y_ms))\n",
        "df_x_ss = torch.reshape(df_x_ss, (df_x_ss.shape[0], 1, df_x_ss.shape[1]))"
      ]
    },
    {
      "cell_type": "markdown",
      "source": [
        "### 모델 예측 결과 출력"
      ],
      "metadata": {
        "id": "8J_sfhsBiCmR"
      },
      "id": "8J_sfhsBiCmR"
    },
    {
      "cell_type": "code",
      "execution_count": null,
      "id": "6c717f92",
      "metadata": {
        "colab": {
          "base_uri": "https://localhost:8080/",
          "height": 545
        },
        "id": "6c717f92",
        "outputId": "4e1d31f9-5782-4ec0-9722-7927c1c49202"
      },
      "outputs": [
        {
          "output_type": "display_data",
          "data": {
            "text/plain": [
              "<Figure size 1000x600 with 1 Axes>"
            ],
            "image/png": "[encoded data removed]"
          },
          "metadata": {}
        }
      ],
      "source": [
        "train_predict = model(df_x_ss) # 훈련 데이터셋을 모델에 적용하여 모델 학습\n",
        "predicted = train_predict.data.numpy() # 모델 학습 결과를 넘파이로 변경\n",
        "label_y = df_y_ms.data.numpy()\n",
        "\n",
        "predicted= ms.inverse_transform(predicted) # 모델 학습을 위해 정규화했던 것을 해제\n",
        "label_y = ms.inverse_transform(label_y)\n",
        "plt.figure(figsize=(10,6)) # 그래프로 표시(plotting)\n",
        "plt.axvline(x=200, c='r', linestyle='--') # 그래프의 축을 따라 수직선을 표현\n",
        "\n",
        "plt.plot(label_y, label='Actual Data')\n",
        "plt.plot(predicted, label='Predicted Data')\n",
        "plt.title('Time-Series Prediction')\n",
        "plt.legend()\n",
        "plt.show()"
      ]
    },
    {
      "cell_type": "markdown",
      "source": [
        "# 7.6.2 GRU 셀 구현"
      ],
      "metadata": {
        "id": "NSurCA2Bjn4s"
      },
      "id": "NSurCA2Bjn4s"
    },
    {
      "cell_type": "markdown",
      "source": [
        "### 라이브러리 호출"
      ],
      "metadata": {
        "id": "kjn_dPysAeu7"
      },
      "id": "kjn_dPysAeu7"
    },
    {
      "cell_type": "code",
      "execution_count": null,
      "id": "d1e52852",
      "metadata": {
        "id": "d1e52852"
      },
      "outputs": [],
      "source": [
        "import torch\n",
        "import torch.nn as nn\n",
        "import torchvision.transforms as transforms\n",
        "import torchvision.datasets as dataset\n",
        "from torch.autograd import Variable\n",
        "from torch.nn import Parameter\n",
        "from torch import Tensor\n",
        "import torch.nn.functional as F\n",
        "from torch.utils.data import DataLoader\n",
        "import math\n",
        "\n",
        "device = torch.device('cuda:0' if torch.cuda.is_available() else 'cpu')\n",
        "cuda = True if torch.cuda.is_available() else False\n",
        "\n",
        "Tensor = torch.cuda.FloatTensor if cuda else torch.FloatTensor\n",
        "\n",
        "# 랜덤 시드를 설정하여 코드 실행 시 재현 가능한 결과를 얻습니다.\n",
        "torch.manual_seed(125)\n",
        "# GPU를 사용할 수 있는 경우, GPU에 대한 랜덤 시드를 설정합니다.\n",
        "if torch.cuda.is_available():\n",
        "    torch.cuda.manual_seed_all(125)"
      ]
    },
    {
      "cell_type": "markdown",
      "source": [
        "### 데이터 전처리"
      ],
      "metadata": {
        "id": "tXgulZ69AmMB"
      },
      "id": "tXgulZ69AmMB"
    },
    {
      "cell_type": "code",
      "execution_count": null,
      "id": "6a357411",
      "metadata": {
        "id": "6a357411"
      },
      "outputs": [],
      "source": [
        "mnist_transform = transforms.Compose([\n",
        "    transforms.ToTensor(), # 텐서로 변경\n",
        "    transforms.Normalize((0.5,), (1.0,)) # 평균과 표준편차를 기준으로 정규화\n",
        "])"
      ]
    },
    {
      "cell_type": "markdown",
      "source": [
        "### 데이터셋 내려받기 및 전처리 적용 (MNIST 데이터셋)"
      ],
      "metadata": {
        "id": "UGeTbSFAAsvw"
      },
      "id": "UGeTbSFAAsvw"
    },
    {
      "cell_type": "code",
      "execution_count": null,
      "id": "e58e536d",
      "metadata": {
        "id": "e58e536d",
        "colab": {
          "base_uri": "https://localhost:8080/"
        },
        "outputId": "cc45ff70-a4c9-4890-feaa-b174123acea5"
      },
      "outputs": [
        {
          "output_type": "stream",
          "name": "stdout",
          "text": [
            "Downloading http://yann.lecun.com/exdb/mnist/train-images-idx3-ubyte.gz\n",
            "Failed to download (trying next):\n",
            "HTTP Error 403: Forbidden\n",
            "\n",
            "Downloading https://ossci-datasets.s3.amazonaws.com/mnist/train-images-idx3-ubyte.gz\n",
            "Downloading https://ossci-datasets.s3.amazonaws.com/mnist/train-images-idx3-ubyte.gz to MNIST_DATASET/MNIST/raw/train-images-idx3-ubyte.gz\n"
          ]
        },
        {
          "output_type": "stream",
          "name": "stderr",
          "text": [
            "100%|██████████| 9912422/9912422 [00:02<00:00, 4399346.45it/s]\n"
          ]
        },
        {
          "output_type": "stream",
          "name": "stdout",
          "text": [
            "Extracting MNIST_DATASET/MNIST/raw/train-images-idx3-ubyte.gz to MNIST_DATASET/MNIST/raw\n",
            "\n",
            "Downloading http://yann.lecun.com/exdb/mnist/train-labels-idx1-ubyte.gz\n",
            "Failed to download (trying next):\n",
            "HTTP Error 403: Forbidden\n",
            "\n",
            "Downloading https://ossci-datasets.s3.amazonaws.com/mnist/train-labels-idx1-ubyte.gz\n",
            "Downloading https://ossci-datasets.s3.amazonaws.com/mnist/train-labels-idx1-ubyte.gz to MNIST_DATASET/MNIST/raw/train-labels-idx1-ubyte.gz\n"
          ]
        },
        {
          "output_type": "stream",
          "name": "stderr",
          "text": [
            "100%|██████████| 28881/28881 [00:00<00:00, 133134.58it/s]\n"
          ]
        },
        {
          "output_type": "stream",
          "name": "stdout",
          "text": [
            "Extracting MNIST_DATASET/MNIST/raw/train-labels-idx1-ubyte.gz to MNIST_DATASET/MNIST/raw\n",
            "\n",
            "Downloading http://yann.lecun.com/exdb/mnist/t10k-images-idx3-ubyte.gz\n",
            "Failed to download (trying next):\n",
            "HTTP Error 403: Forbidden\n",
            "\n",
            "Downloading https://ossci-datasets.s3.amazonaws.com/mnist/t10k-images-idx3-ubyte.gz\n",
            "Downloading https://ossci-datasets.s3.amazonaws.com/mnist/t10k-images-idx3-ubyte.gz to MNIST_DATASET/MNIST/raw/t10k-images-idx3-ubyte.gz\n"
          ]
        },
        {
          "output_type": "stream",
          "name": "stderr",
          "text": [
            "100%|██████████| 1648877/1648877 [00:01<00:00, 1226425.85it/s]\n"
          ]
        },
        {
          "output_type": "stream",
          "name": "stdout",
          "text": [
            "Extracting MNIST_DATASET/MNIST/raw/t10k-images-idx3-ubyte.gz to MNIST_DATASET/MNIST/raw\n",
            "\n",
            "Downloading http://yann.lecun.com/exdb/mnist/t10k-labels-idx1-ubyte.gz\n",
            "Failed to download (trying next):\n",
            "HTTP Error 403: Forbidden\n",
            "\n",
            "Downloading https://ossci-datasets.s3.amazonaws.com/mnist/t10k-labels-idx1-ubyte.gz\n",
            "Downloading https://ossci-datasets.s3.amazonaws.com/mnist/t10k-labels-idx1-ubyte.gz to MNIST_DATASET/MNIST/raw/t10k-labels-idx1-ubyte.gz\n"
          ]
        },
        {
          "output_type": "stream",
          "name": "stderr",
          "text": [
            "100%|██████████| 4542/4542 [00:00<00:00, 10607198.65it/s]"
          ]
        },
        {
          "output_type": "stream",
          "name": "stdout",
          "text": [
            "Extracting MNIST_DATASET/MNIST/raw/t10k-labels-idx1-ubyte.gz to MNIST_DATASET/MNIST/raw\n",
            "\n"
          ]
        },
        {
          "output_type": "stream",
          "name": "stderr",
          "text": [
            "\n"
          ]
        }
      ],
      "source": [
        "from torchvision.datasets import MNIST\n",
        "download_root = 'MNIST_DATASET/'\n",
        "\n",
        "train_dataset = MNIST(download_root, transform=mnist_transform, train=True, download=True)\n",
        "valid_dataset = MNIST(download_root, transform=mnist_transform, train=False, download=True)\n",
        "test_dataset = MNIST(download_root, transform=mnist_transform, train=False, download=True)"
      ]
    },
    {
      "cell_type": "markdown",
      "source": [
        "### 데이터셋 메모리로 가져오기"
      ],
      "metadata": {
        "id": "ELPnBigQA0tP"
      },
      "id": "ELPnBigQA0tP"
    },
    {
      "cell_type": "code",
      "execution_count": null,
      "id": "28f097a8",
      "metadata": {
        "id": "28f097a8"
      },
      "outputs": [],
      "source": [
        "batch_size = 64\n",
        "train_loader = DataLoader(dataset=train_dataset,\n",
        "                         batch_size=batch_size,\n",
        "                         shuffle=True)\n",
        "valid_loader = DataLoader(dataset=test_dataset,\n",
        "                         batch_size=batch_size,\n",
        "                         shuffle=True) # 일반적으로 검증과 테스트 데이터셋은 섞어서 사용하지 않는다\n",
        "test_loader = DataLoader(dataset=test_dataset,\n",
        "                         batch_size=batch_size,\n",
        "                         shuffle=True)"
      ]
    },
    {
      "cell_type": "markdown",
      "source": [
        "### 변수 값 설정"
      ],
      "metadata": {
        "id": "Q2ufrImIA9NS"
      },
      "id": "Q2ufrImIA9NS"
    },
    {
      "cell_type": "code",
      "execution_count": null,
      "id": "8e9a258e",
      "metadata": {
        "id": "8e9a258e"
      },
      "outputs": [],
      "source": [
        "batch_size = 100\n",
        "n_iters = 6000\n",
        "num_epochs = n_iters / (len(train_dataset) / batch_size)\n",
        "# (len(train_dataset) / batch_size) : 한번의 epoch에 필요한 반복 횟수\n",
        "# 총 epoch 수 = 총 반복 횟수 / 한번의 epoch에 필요한 반복 횟수\n",
        "num_epochs = int(num_epochs)"
      ]
    },
    {
      "cell_type": "markdown",
      "source": [
        "### GRU 셀 네트워크"
      ],
      "metadata": {
        "id": "OPVl5HtyA_Ab"
      },
      "id": "OPVl5HtyA_Ab"
    },
    {
      "cell_type": "code",
      "execution_count": null,
      "id": "8190f8e5",
      "metadata": {
        "id": "8190f8e5"
      },
      "outputs": [],
      "source": [
        "class GRUCell(nn.Module):\n",
        "    def __init__(self, input_size, hidden_size, bias=True):\n",
        "        super(GRUCell, self).__init__()\n",
        "        self.input_size = input_size\n",
        "        self.hidden_size = hidden_size\n",
        "        self.bias = bias\n",
        "        self.x2h = nn.Linear(input_size, 3 * hidden_size, bias=bias) # 입력에서 hidden 상태로 가는 선형 변환\n",
        "                                                                     # 3개의 게이트가 사용되므로 3을 곱함\n",
        "        self.h2h = nn.Linear(hidden_size, 3 * hidden_size, bias=bias) # hidden 상태에서 hidden 상태로 가는 선형 변환\n",
        "        self.reset_parameters() # 파라미터 초기화\n",
        "\n",
        "    def reset_parameters(self): # 파라미터 초기화 함수\n",
        "        std = 1.0 / math.sqrt(self.hidden_size) # 표준 편차 계산\n",
        "        for w in self.parameters():\n",
        "            w.data.uniform_(-std, std) # 가중치 값을 균등 분포에서 랜덤하게 초기화\n",
        "                                       # 초기화되는 값은 -std와 std 사이의 값\n",
        "\n",
        "    def forward(self, x, hidden):\n",
        "        x = x.view(-1, x.size(1)) # 입력 데이터의 형태를 맞춤\n",
        "\n",
        "        # 입력과 이전 hidden 상태를 이용하여 3개의 게이트에 대한 연산 수행\n",
        "        # LSTM 셀에서는 gates를 x2h + h2h로 정의했지만, GRU 셀에서는 개별적인 상태를 유지한다\n",
        "        gate_x = self.x2h(x)\n",
        "        gate_h = self.h2h(hidden)\n",
        "\n",
        "        gate_x = gate_x.squeeze() # 차원을 줄임\n",
        "        gate_h = gate_h.squeeze() # 차원을 줄임\n",
        "\n",
        "        # gate_x, gate_h를 각 게이트(i_r, i_i, i_n), (h_r, h_i, h_n)으로 나눔\n",
        "        i_r, i_i, i_n = gate_x.chunk(3, 1) # (리셋 게이트, 입력 게이트, 새로운 게이트)로 쪼갠다\n",
        "        h_r, h_i, h_n = gate_h.chunk(3, 1) # (리셋 게이트, 입력 게이트, 새로운 게이트)로 쪼갠다\n",
        "\n",
        "        # 게이트들에 시그모이드 및 하이퍼볼릭 탄젠트 함수를 적용하여 각 게이트의 값을 계산\n",
        "        resetgate = F.sigmoid(i_r + h_r) # 리셋 게이트\n",
        "        inputgate = F.sigmoid(i_i + h_i) # 입력 게이트\n",
        "        newgate = F.tanh(i_n + (resetgate * h_n)) # 새로운 게이트\n",
        "\n",
        "        # 새로운 hidden 상태 계산\n",
        "        hy = (1 - inputgate) * hidden + inputgate * newgate\n",
        "        return hy\n"
      ]
    },
    {
      "cell_type": "markdown",
      "source": [
        "### 전반적인 네트워크 구조"
      ],
      "metadata": {
        "id": "QNdmVwoyBE2U"
      },
      "id": "QNdmVwoyBE2U"
    },
    {
      "cell_type": "code",
      "execution_count": null,
      "id": "9841480f",
      "metadata": {
        "id": "9841480f"
      },
      "outputs": [],
      "source": [
        "class GRUModel(nn.Module):\n",
        "    def __init__(self, input_dim, hidden_dim, layer_dim, output_dim, bias=True):\n",
        "        super(GRUModel, self).__init__()\n",
        "        self.hidden_dim = hidden_dim\n",
        "        self.layer_dim = layer_dim\n",
        "\n",
        "        # GRUCell을 사용하여 GRU 모델 정의\n",
        "        self.gru_cell = GRUCell(input_dim, hidden_dim, bias)\n",
        "        # 출력을 위한 선형 레이어 정의\n",
        "        self.fc = nn.Linear(hidden_dim, output_dim)\n",
        "\n",
        "    def forward(self, x):\n",
        "        # 초기 hidden 상태 생성\n",
        "        if torch.cuda.is_available():\n",
        "            h0 = Variable(torch.zeros(self.layer_dim, x.size(0), self.hidden_dim).cuda()) # 크기가 (layer_dim, batch_size, hidden_dim)인 초기 hidden 상태 텐서\n",
        "        else:\n",
        "            h0 = Variable(torch.zeros(self.layer_dim, x.size(0), self.hidden_dim))\n",
        "\n",
        "        outs = []\n",
        "        hn = h0[0,:,:] # 초기 hidden 상태\n",
        "\n",
        "        # 각 시퀀스마다 GRU 셀을 통과하여 hidden 상태 업데이트\n",
        "        for seq in range(x.size(1)):\n",
        "            hn = self.gru_cell(x[:,seq,:], hn)\n",
        "            outs.append(hn)\n",
        "\n",
        "        out = outs[-1].squeeze() # 마지막 시퀀스의 hidden 상태를 출력으로 사용\n",
        "        out = self.fc(out) # 출력을 위해 선형 레이어를 통과시킴\n",
        "        return out\n"
      ]
    },
    {
      "cell_type": "markdown",
      "source": [
        "### 옵티마이저와 손실 함수 설정"
      ],
      "metadata": {
        "id": "fSiQTWq4Bsga"
      },
      "id": "fSiQTWq4Bsga"
    },
    {
      "cell_type": "code",
      "execution_count": null,
      "id": "a4328942",
      "metadata": {
        "id": "a4328942"
      },
      "outputs": [],
      "source": [
        "input_dim = 28 # 입력 데이터의 특성수\n",
        "hidden_dim = 128 # hidden 상태의 차원\n",
        "layer_dim = 1 # 순환 신경망의 레이어수\n",
        "output_dim = 10 # 출력 특성수\n",
        "\n",
        "model = GRUModel(input_dim, hidden_dim, layer_dim, output_dim)\n",
        "\n",
        "if torch.cuda.is_available():\n",
        "    model.cuda()\n",
        "\n",
        "criterion = nn.CrossEntropyLoss()\n",
        "learning_rate = 0.1\n",
        "optimizer = torch.optim.SGD(model.parameters(), lr=learning_rate)"
      ]
    },
    {
      "cell_type": "markdown",
      "source": [
        "### 모델 학습 및 성능 검증"
      ],
      "metadata": {
        "id": "6dCJvTRsBvuv"
      },
      "id": "6dCJvTRsBvuv"
    },
    {
      "cell_type": "code",
      "execution_count": null,
      "id": "880e4755",
      "metadata": {
        "colab": {
          "base_uri": "https://localhost:8080/"
        },
        "id": "880e4755",
        "outputId": "1a6052e5-47ab-4119-ffdc-17717a214d87"
      },
      "outputs": [
        {
          "output_type": "stream",
          "name": "stdout",
          "text": [
            "Iteration: 500. Loss: 1.6616928577423096. Accuracy: 43.59000015258789\n",
            "Iteration: 1000. Loss: 0.8945668339729309. Accuracy: 76.19999694824219\n",
            "Iteration: 1500. Loss: 0.29147759079933167. Accuracy: 89.7300033569336\n",
            "Iteration: 2000. Loss: 0.23627927899360657. Accuracy: 93.51000213623047\n",
            "Iteration: 2500. Loss: 0.03288726136088371. Accuracy: 95.05000305175781\n",
            "Iteration: 3000. Loss: 0.030374974012374878. Accuracy: 95.81999969482422\n",
            "Iteration: 3500. Loss: 0.16210567951202393. Accuracy: 96.33999633789062\n",
            "Iteration: 4000. Loss: 0.19308766722679138. Accuracy: 96.19000244140625\n",
            "Iteration: 4500. Loss: 0.051720067858695984. Accuracy: 97.0\n",
            "Iteration: 5000. Loss: 0.13900163769721985. Accuracy: 97.26000213623047\n",
            "Iteration: 5500. Loss: 0.08090294152498245. Accuracy: 97.62000274658203\n",
            "Iteration: 6000. Loss: 0.10488356649875641. Accuracy: 97.69000244140625\n",
            "Iteration: 6500. Loss: 0.07984025031328201. Accuracy: 97.80000305175781\n",
            "Iteration: 7000. Loss: 0.10250380635261536. Accuracy: 97.55999755859375\n",
            "Iteration: 7500. Loss: 0.0647798627614975. Accuracy: 97.86000061035156\n",
            "Iteration: 8000. Loss: 0.10547610372304916. Accuracy: 97.80000305175781\n",
            "Iteration: 8500. Loss: 0.04281146451830864. Accuracy: 98.0199966430664\n",
            "Iteration: 9000. Loss: 0.041988763958215714. Accuracy: 98.22000122070312\n"
          ]
        }
      ],
      "source": [
        "seq_dim = 28 # 시퀀스 데이터의 길이 (순환 신경망에 입력되는 데이터의 길이)\n",
        "loss_list = []\n",
        "iter = 0\n",
        "\n",
        "for epoch in range(num_epochs):\n",
        "    for i, (images, labels) in enumerate(train_loader):\n",
        "        # GPU를 사용할 수 있는지 확인\n",
        "        if torch.cuda.is_available():\n",
        "            # 이미지와 레이블을 변수로 변환하고 GPU로 이동\n",
        "            images = Variable(images.view(-1, seq_dim, input_dim).cuda()) # 입력 이미지 형태 변환\n",
        "            labels = Variable(labels.cuda())\n",
        "        else:\n",
        "            # 이미지와 레이블을 변수로 변환\n",
        "            images = Variable(images.view(-1, seq_dim, input_dim))\n",
        "            labels = Variable(labels)\n",
        "\n",
        "        # 경사 초기화\n",
        "        optimizer.zero_grad()\n",
        "\n",
        "        # 모델에 이미지 전달하여 출력 계산\n",
        "        outputs = model(images)\n",
        "\n",
        "        # 손실 계산\n",
        "        loss = criterion(outputs, labels)\n",
        "\n",
        "        # GPU를 사용할 수 있는 경우 손실을 GPU로 이동\n",
        "        if torch.cuda.is_available():\n",
        "            loss.cuda()\n",
        "\n",
        "        # 역전파 및 가중치 업데이트\n",
        "        loss.backward()\n",
        "        optimizer.step()\n",
        "\n",
        "        # 손실 기록\n",
        "        loss_list.append(loss.item())\n",
        "        iter += 1\n",
        "\n",
        "        # 일정 간격마다 검증 데이터에 대한 정확도 출력\n",
        "        if iter % 500 == 0:\n",
        "            correct = 0\n",
        "            total = 0\n",
        "            for images, labels in valid_loader:\n",
        "                if torch.cuda.is_available():\n",
        "                    # 검증 이미지를 변수로 변환하고 GPU로 이동\n",
        "                    images = Variable(images.view(-1, seq_dim, input_dim).cuda())\n",
        "                else:\n",
        "                    # 검증 이미지를 변수로 변환\n",
        "                    images = Variable(images.view(-1 , seq_dim, input_dim))\n",
        "\n",
        "                # 모델을 통해 이미지 전달하여 출력 계산\n",
        "                outputs = model(images)\n",
        "                _, predicted = torch.max(outputs.data, 1)\n",
        "                total += labels.size(0)\n",
        "\n",
        "                if torch.cuda.is_available():\n",
        "                    # 정확도 계산을 위해 CPU로 이동한 후 정확한 예측 수 계산\n",
        "                    correct += (predicted.cpu() == labels.cpu()).sum()\n",
        "                else:\n",
        "                    correct += (predicted == labels).sum()\n",
        "\n",
        "            # 정확도 출력\n",
        "            accuracy = 100 * correct / total\n",
        "            print('Iteration: {}. Loss: {}. Accuracy: {}'.format(iter, loss.item(), accuracy))\n"
      ]
    },
    {
      "cell_type": "markdown",
      "source": [
        "### 테스트 데이터셋을 이용한 모델 예측"
      ],
      "metadata": {
        "id": "AgBZTSoCBzeD"
      },
      "id": "AgBZTSoCBzeD"
    },
    {
      "cell_type": "code",
      "execution_count": null,
      "id": "3bc673b9",
      "metadata": {
        "id": "3bc673b9"
      },
      "outputs": [],
      "source": [
        "def evaluate(model, val_iter):\n",
        "    corrects, total, total_loss = 0, 0, 0\n",
        "    model.eval()\n",
        "    for images, labels in val_iter:\n",
        "        if torch.cuda.is_available():\n",
        "            images = Variable(images.view(-1, seq_dim, input_dim).cuda())\n",
        "        else:\n",
        "            images = Variable(images.view(-1 , seq_dim, input_dim)).to(device)\n",
        "        labels = labels.cuda()\n",
        "        logit = model(images).cuda()\n",
        "        loss = F.cross_entropy(logit, labels, reduction = \"sum\")\n",
        "        _, predicted = torch.max(logit.data, 1)\n",
        "        total += labels.size(0)\n",
        "        total_loss += loss.item()\n",
        "        corrects += (predicted == labels).sum()\n",
        "\n",
        "    avg_loss = total_loss / len(val_iter.dataset)\n",
        "    avg_accuracy = corrects / total\n",
        "    return avg_loss, avg_accuracy"
      ]
    },
    {
      "cell_type": "markdown",
      "source": [
        "### 모델 예측 결과"
      ],
      "metadata": {
        "id": "LP3_tbnlB2eO"
      },
      "id": "LP3_tbnlB2eO"
    },
    {
      "cell_type": "code",
      "execution_count": null,
      "id": "c6080b17",
      "metadata": {
        "colab": {
          "base_uri": "https://localhost:8080/"
        },
        "id": "c6080b17",
        "outputId": "f4c9e60e-648a-4d97-fad6-27f652db3866"
      },
      "outputs": [
        {
          "output_type": "stream",
          "name": "stdout",
          "text": [
            "Test Loss:  0.07 | Test Accuracy:  0.98\n"
          ]
        }
      ],
      "source": [
        "test_loss, test_acc = evaluate(model,test_loader)\n",
        "print(\"Test Loss: %5.2f | Test Accuracy: %5.2f\" % (test_loss, test_acc))"
      ]
    },
    {
      "cell_type": "markdown",
      "source": [
        "# 7.6.3 GRU 계층 구현"
      ],
      "metadata": {
        "id": "r79yKfpEB48x"
      },
      "id": "r79yKfpEB48x"
    },
    {
      "cell_type": "markdown",
      "source": [
        "### 라이브러리 호출"
      ],
      "metadata": {
        "id": "A4bE44X3WYyY"
      },
      "id": "A4bE44X3WYyY"
    },
    {
      "cell_type": "code",
      "execution_count": null,
      "id": "d3406d83",
      "metadata": {
        "id": "d3406d83"
      },
      "outputs": [],
      "source": [
        "import os\n",
        "import time\n",
        "\n",
        "import numpy as np\n",
        "import pandas as pd\n",
        "import matplotlib.pyplot as plt\n",
        "\n",
        "import torch\n",
        "import torch.nn as nn\n",
        "from torch.utils.data import TensorDataset, DataLoader\n",
        "from torch.autograd import Variable\n",
        "from tqdm import tqdm_notebook\n",
        "from sklearn.preprocessing import StandardScaler, MinMaxScaler\n",
        "from sklearn.model_selection import train_test_split\n",
        "\n",
        "device = torch.device('cuda:0' if torch.cuda.is_available() else 'cpu')"
      ]
    },
    {
      "cell_type": "markdown",
      "source": [
        "### 데이터셋 불러오기 (스타벅스 주가 데이터셋)"
      ],
      "metadata": {
        "id": "cEWMqYQqWhcC"
      },
      "id": "cEWMqYQqWhcC"
    },
    {
      "cell_type": "code",
      "execution_count": null,
      "id": "87713ee0",
      "metadata": {
        "colab": {
          "base_uri": "https://localhost:8080/",
          "height": 224
        },
        "id": "87713ee0",
        "outputId": "f9679092-0988-4b3e-e292-5fb5fdb16828"
      },
      "outputs": [
        {
          "output_type": "display_data",
          "data": {
            "text/plain": [
              "<IPython.core.display.HTML object>"
            ],
            "text/html": [
              "\n",
              "     <input type=\"file\" id=\"files-525dab3e-1e40-47af-9b84-db700c1b7bda\" name=\"files[]\" multiple disabled\n",
              "        style=\"border:none\" />\n",
              "     <output id=\"result-525dab3e-1e40-47af-9b84-db700c1b7bda\">\n",
              "      Upload widget is only available when the cell has been executed in the\n",
              "      current browser session. Please rerun this cell to enable.\n",
              "      </output>\n",
              "      <script>// Copyright 2017 Google LLC\n",
              "//\n",
              "// Licensed under the Apache License, Version 2.0 (the \"License\");\n",
              "// you may not use this file except in compliance with the License.\n",
              "// You may obtain a copy of the License at\n",
              "//\n",
              "//      http://www.apache.org/licenses/LICENSE-2.0\n",
              "//\n",
              "// Unless required by applicable law or agreed to in writing, software\n",
              "// distributed under the License is distributed on an \"AS IS\" BASIS,\n",
              "// WITHOUT WARRANTIES OR CONDITIONS OF ANY KIND, either express or implied.\n",
              "// See the License for the specific language governing permissions and\n",
              "// limitations under the License.\n",
              "\n",
              "/**\n",
              " * @fileoverview Helpers for google.colab Python module.\n",
              " */\n",
              "(function(scope) {\n",
              "function span(text, styleAttributes = {}) {\n",
              "  const element = document.createElement('span');\n",
              "  element.textContent = text;\n",
              "  for (const key of Object.keys(styleAttributes)) {\n",
              "    element.style[key] = styleAttributes[key];\n",
              "  }\n",
              "  return element;\n",
              "}\n",
              "\n",
              "// Max number of bytes which will be uploaded at a time.\n",
              "const MAX_PAYLOAD_SIZE = 100 * 1024;\n",
              "\n",
              "function _uploadFiles(inputId, outputId) {\n",
              "  const steps = uploadFilesStep(inputId, outputId);\n",
              "  const outputElement = document.getElementById(outputId);\n",
              "  // Cache steps on the outputElement to make it available for the next call\n",
              "  // to uploadFilesContinue from Python.\n",
              "  outputElement.steps = steps;\n",
              "\n",
              "  return _uploadFilesContinue(outputId);\n",
              "}\n",
              "\n",
              "// This is roughly an async generator (not supported in the browser yet),\n",
              "// where there are multiple asynchronous steps and the Python side is going\n",
              "// to poll for completion of each step.\n",
              "// This uses a Promise to block the python side on completion of each step,\n",
              "// then passes the result of the previous step as the input to the next step.\n",
              "function _uploadFilesContinue(outputId) {\n",
              "  const outputElement = document.getElementById(outputId);\n",
              "  const steps = outputElement.steps;\n",
              "\n",
              "  const next = steps.next(outputElement.lastPromiseValue);\n",
              "  return Promise.resolve(next.value.promise).then((value) => {\n",
              "    // Cache the last promise value to make it available to the next\n",
              "    // step of the generator.\n",
              "    outputElement.lastPromiseValue = value;\n",
              "    return next.value.response;\n",
              "  });\n",
              "}\n",
              "\n",
              "/**\n",
              " * Generator function which is called between each async step of the upload\n",
              " * process.\n",
              " * @param {string} inputId Element ID of the input file picker element.\n",
              " * @param {string} outputId Element ID of the output display.\n",
              " * @return {!Iterable<!Object>} Iterable of next steps.\n",
              " */\n",
              "function* uploadFilesStep(inputId, outputId) {\n",
              "  const inputElement = document.getElementById(inputId);\n",
              "  inputElement.disabled = false;\n",
              "\n",
              "  const outputElement = document.getElementById(outputId);\n",
              "  outputElement.innerHTML = '';\n",
              "\n",
              "  const pickedPromise = new Promise((resolve) => {\n",
              "    inputElement.addEventListener('change', (e) => {\n",
              "      resolve(e.target.files);\n",
              "    });\n",
              "  });\n",
              "\n",
              "  const cancel = document.createElement('button');\n",
              "  inputElement.parentElement.appendChild(cancel);\n",
              "  cancel.textContent = 'Cancel upload';\n",
              "  const cancelPromise = new Promise((resolve) => {\n",
              "    cancel.onclick = () => {\n",
              "      resolve(null);\n",
              "    };\n",
              "  });\n",
              "\n",
              "  // Wait for the user to pick the files.\n",
              "  const files = yield {\n",
              "    promise: Promise.race([pickedPromise, cancelPromise]),\n",
              "    response: {\n",
              "      action: 'starting',\n",
              "    }\n",
              "  };\n",
              "\n",
              "  cancel.remove();\n",
              "\n",
              "  // Disable the input element since further picks are not allowed.\n",
              "  inputElement.disabled = true;\n",
              "\n",
              "  if (!files) {\n",
              "    return {\n",
              "      response: {\n",
              "        action: 'complete',\n",
              "      }\n",
              "    };\n",
              "  }\n",
              "\n",
              "  for (const file of files) {\n",
              "    const li = document.createElement('li');\n",
              "    li.append(span(file.name, {fontWeight: 'bold'}));\n",
              "    li.append(span(\n",
              "        `(${file.type || 'n/a'}) - ${file.size} bytes, ` +\n",
              "        `last modified: ${\n",
              "            file.lastModifiedDate ? file.lastModifiedDate.toLocaleDateString() :\n",
              "                                    'n/a'} - `));\n",
              "    const percent = span('0% done');\n",
              "    li.appendChild(percent);\n",
              "\n",
              "    outputElement.appendChild(li);\n",
              "\n",
              "    const fileDataPromise = new Promise((resolve) => {\n",
              "      const reader = new FileReader();\n",
              "      reader.onload = (e) => {\n",
              "        resolve(e.target.result);\n",
              "      };\n",
              "      reader.readAsArrayBuffer(file);\n",
              "    });\n",
              "    // Wait for the data to be ready.\n",
              "    let fileData = yield {\n",
              "      promise: fileDataPromise,\n",
              "      response: {\n",
              "        action: 'continue',\n",
              "      }\n",
              "    };\n",
              "\n",
              "    // Use a chunked sending to avoid message size limits. See b/62115660.\n",
              "    let position = 0;\n",
              "    do {\n",
              "      const length = Math.min(fileData.byteLength - position, MAX_PAYLOAD_SIZE);\n",
              "      const chunk = new Uint8Array(fileData, position, length);\n",
              "      position += length;\n",
              "\n",
              "      const base64 = btoa(String.fromCharCode.apply(null, chunk));\n",
              "      yield {\n",
              "        response: {\n",
              "          action: 'append',\n",
              "          file: file.name,\n",
              "          data: base64,\n",
              "        },\n",
              "      };\n",
              "\n",
              "      let percentDone = fileData.byteLength === 0 ?\n",
              "          100 :\n",
              "          Math.round((position / fileData.byteLength) * 100);\n",
              "      percent.textContent = `${percentDone}% done`;\n",
              "\n",
              "    } while (position < fileData.byteLength);\n",
              "  }\n",
              "\n",
              "  // All done.\n",
              "  yield {\n",
              "    response: {\n",
              "      action: 'complete',\n",
              "    }\n",
              "  };\n",
              "}\n",
              "\n",
              "scope.google = scope.google || {};\n",
              "scope.google.colab = scope.google.colab || {};\n",
              "scope.google.colab._files = {\n",
              "  _uploadFiles,\n",
              "  _uploadFilesContinue,\n",
              "};\n",
              "})(self);\n",
              "</script> "
            ]
          },
          "metadata": {}
        },
        {
          "output_type": "stream",
          "name": "stdout",
          "text": [
            "Saving SBUX.csv to SBUX.csv\n",
            "Date          object\n",
            "Open         float64\n",
            "High         float64\n",
            "Low          float64\n",
            "Close        float64\n",
            "Adj Close    float64\n",
            "Volume         int64\n",
            "dtype: object\n"
          ]
        }
      ],
      "source": [
        "from google.colab import files # 데이터 불러오기\n",
        "file_uploaded=files.upload()   # chap07/data/SUBX.csv 데이터 불러오기\n",
        "data=pd.read_csv('SBUX.csv')\n",
        "print(data.dtypes)"
      ]
    },
    {
      "cell_type": "markdown",
      "source": [
        "### 인덱스 설정 및 데이터 타입 변경"
      ],
      "metadata": {
        "id": "qiHrFPXyWlvp"
      },
      "id": "qiHrFPXyWlvp"
    },
    {
      "cell_type": "code",
      "execution_count": null,
      "id": "a158da85",
      "metadata": {
        "id": "a158da85"
      },
      "outputs": [],
      "source": [
        "data['Date'] = pd.to_datetime(data['Date'])\n",
        "data.set_index('Date', inplace=True) # Date 칼럼을 인덱스로 지정\n",
        "data['Volume'] = data['Volume'].astype(float) # Volume 칼럼의 데이터 형식을 실수로 변경"
      ]
    },
    {
      "cell_type": "markdown",
      "source": [
        "### 훈련과 레이블 데이터셋 분리"
      ],
      "metadata": {
        "id": "7MlJheXuW54o"
      },
      "id": "7MlJheXuW54o"
    },
    {
      "cell_type": "code",
      "execution_count": null,
      "id": "e6fb8159",
      "metadata": {
        "colab": {
          "base_uri": "https://localhost:8080/"
        },
        "id": "e6fb8159",
        "outputId": "3064ea16-d98e-4d6d-a6d1-3367c88fd1c3"
      },
      "outputs": [
        {
          "output_type": "stream",
          "name": "stdout",
          "text": [
            "                  Open        High         Low       Close   Adj Close\n",
            "Date                                                                  \n",
            "2023-05-10  107.160004  108.110001  105.680000  106.970001  104.667084\n",
            "2023-05-11  106.440002  106.760002  105.120003  105.629997  103.870567\n",
            "2023-05-12  105.760002  106.220001  104.830002  106.120003  104.352417\n",
            "2023-05-15  106.110001  106.760002  105.610001  106.639999  104.863747\n",
            "2023-05-16  106.410004  106.559998  105.199997  105.279999  103.526405\n",
            "...                ...         ...         ...         ...         ...\n",
            "2024-05-03   75.269997   75.510002   72.989998   73.110001   73.110001\n",
            "2024-05-06   73.309998   74.190002   72.699997   72.900002   72.900002\n",
            "2024-05-07   72.849998   72.849998   71.800003   72.500000   72.500000\n",
            "2024-05-08   72.290001   74.470001   72.250000   73.500000   73.500000\n",
            "2024-05-09   73.570000   75.760002   73.070000   75.680000   75.680000\n",
            "\n",
            "[252 rows x 5 columns]\n",
            "                Volume\n",
            "Date                  \n",
            "2023-05-10   4565000.0\n",
            "2023-05-11   4791700.0\n",
            "2023-05-12   5167600.0\n",
            "2023-05-15   4217000.0\n",
            "2023-05-16   3676600.0\n",
            "...                ...\n",
            "2024-05-03  22153800.0\n",
            "2024-05-06  18632200.0\n",
            "2024-05-07  21901300.0\n",
            "2024-05-08  24482600.0\n",
            "2024-05-09  18573800.0\n",
            "\n",
            "[252 rows x 1 columns]\n"
          ]
        }
      ],
      "source": [
        "X=data.iloc[:,:-1] # 마지막 칼럼을 제외한 모든 데이터셋을 x(훈련 용도)로 지정\n",
        "y=data.iloc[:,5:6] # 마지막 칼럼을 레이블(y)로 지정\n",
        "print(X)\n",
        "print(y)"
      ]
    },
    {
      "cell_type": "markdown",
      "source": [
        "### 훈련과 테스트 데이터셋 정규화"
      ],
      "metadata": {
        "id": "z_7c20FbXKr8"
      },
      "id": "z_7c20FbXKr8"
    },
    {
      "cell_type": "code",
      "execution_count": null,
      "id": "4ab3357a",
      "metadata": {
        "colab": {
          "base_uri": "https://localhost:8080/"
        },
        "id": "4ab3357a",
        "outputId": "c80c88d0-ce89-426d-9532-3eed9d22f33c"
      },
      "outputs": [
        {
          "output_type": "stream",
          "name": "stdout",
          "text": [
            "Training Shape (200, 5) (200, 1)\n",
            "Testing Shape (52, 5) (52, 1)\n"
          ]
        }
      ],
      "source": [
        "ms = MinMaxScaler() # MinMaxScaler 객체 생성\n",
        "ss = StandardScaler() # StandardScaler 객체 생성\n",
        "\n",
        "X_ss = ss.fit_transform(X) # 입력 데이터를 표준화(Standardization)합니다.\n",
        "y_ms = ms.fit_transform(y) # 타겟 데이터를 Min-Max 스케일링(Min-Max Scaling)합니다.\n",
        "\n",
        "# 표준화된 입력 데이터와 스케일링된 타겟 데이터를 훈련 세트와 테스트 세트로 나눕니다.\n",
        "X_train = X_ss[:200, :] # 처음 200개의 샘플을 훈련 세트로 사용합니다.\n",
        "X_test = X_ss[200:, :]  # 나머지를 테스트 세트로 사용합니다.\n",
        "\n",
        "y_train = y_ms[:200, :] # 처음 200개의 샘플을 훈련 세트의 타겟 값으로 사용합니다.\n",
        "y_test = y_ms[200:, :]  # 나머지를 테스트 세트의 타겟 값으로 사용합니다.\n",
        "\n",
        "print(\"Training Shape\", X_train.shape, y_train.shape) # 훈련 세트의 형태 출력\n",
        "print(\"Testing Shape\", X_test.shape, y_test.shape)    # 테스트 세트의 형태 출력"
      ]
    },
    {
      "cell_type": "markdown",
      "source": [
        "### 데이터셋 형태 변경 (LSTM에 적용하기 위함)"
      ],
      "metadata": {
        "id": "xAbiQ9b3Xm7k"
      },
      "id": "xAbiQ9b3Xm7k"
    },
    {
      "cell_type": "code",
      "execution_count": null,
      "id": "9f578090",
      "metadata": {
        "colab": {
          "base_uri": "https://localhost:8080/"
        },
        "id": "9f578090",
        "outputId": "14e7e164-c6b2-4a93-f75c-8d77eabd7723"
      },
      "outputs": [
        {
          "output_type": "stream",
          "name": "stdout",
          "text": [
            "Training Shape torch.Size([200, 1, 5]) torch.Size([200, 1])\n",
            "Testing Shape torch.Size([52, 1, 5]) torch.Size([52, 1])\n"
          ]
        }
      ],
      "source": [
        "X_train_tensors = Variable(torch.Tensor(X_train)) # 훈련 세트의 입력 데이터를 PyTorch Tensor로 변환합니다.\n",
        "X_test_tensors = Variable(torch.Tensor(X_test))   # 테스트 세트의 입력 데이터를 PyTorch Tensor로 변환합니다.\n",
        "\n",
        "y_train_tensors = Variable(torch.Tensor(y_train)) # 훈련 세트의 타겟 데이터를 PyTorch Tensor로 변환합니다.\n",
        "y_test_tensors = Variable(torch.Tensor(y_test))   # 테스트 세트의 타겟 데이터를 PyTorch Tensor로 변환합니다.\n",
        "\n",
        "# 입력 데이터의 차원을 변경하여 (샘플 수, 시퀀스 길이, 피쳐 수) 형태로 변환합니다.\n",
        "X_train_tensors_f = torch.reshape(X_train_tensors, (X_train_tensors.shape[0], 1, X_train_tensors.shape[1]))\n",
        "X_test_tensors_f = torch.reshape(X_test_tensors, (X_test_tensors.shape[0], 1, X_test_tensors.shape[1]))\n",
        "\n",
        "print(\"Training Shape\", X_train_tensors_f.shape, y_train_tensors.shape) # 훈련 세트의 형태 출력\n",
        "print(\"Testing Shape\", X_test_tensors_f.shape, y_test_tensors.shape)    # 테스트 세트의 형태 출력\n"
      ]
    },
    {
      "cell_type": "markdown",
      "source": [
        "### GRU 모델의 네트워크"
      ],
      "metadata": {
        "id": "C0y3s4jBX9qj"
      },
      "id": "C0y3s4jBX9qj"
    },
    {
      "cell_type": "code",
      "execution_count": null,
      "id": "4eb29c9a",
      "metadata": {
        "id": "4eb29c9a"
      },
      "outputs": [],
      "source": [
        "class GRU(nn.Module):\n",
        "    def __init__(self, num_classes, input_size, hidden_size, num_layers, seq_length):\n",
        "        super(GRU, self).__init__()\n",
        "        self.num_classes = num_classes\n",
        "        self.num_layers = num_layers\n",
        "        self.input_size = input_size\n",
        "        self.hidden_size = hidden_size\n",
        "        self.seq_length = seq_length\n",
        "\n",
        "        self.gru = nn.GRU(input_size=input_size, hidden_size=hidden_size,\n",
        "                          num_layers=num_layers, batch_first=True)\n",
        "        self.fc_1 =  nn.Linear(hidden_size, 128)\n",
        "        self.fc = nn.Linear(128, num_classes)\n",
        "        self.relu = nn.ReLU()\n",
        "\n",
        "    def forward(self,x):\n",
        "        h_0 = Variable(torch.zeros(self.num_layers, x.size(0), self.hidden_size)) # 은닉 상태에 대해 0으로 초기화\n",
        "                                                                                  # LSTM은 셀 상태가 있었지만 GRU는 셀 상태를 정의하지 않는다\n",
        "        output, (hn) = self.gru(x, (h_0))\n",
        "        hn = hn.view(-1, self.hidden_size)\n",
        "        out = self.relu(hn)\n",
        "        out = self.fc_1(out)\n",
        "        out = self.relu(out)\n",
        "        out = self.fc(out)\n",
        "        return out"
      ]
    },
    {
      "cell_type": "markdown",
      "source": [
        "### 옵티마이저와 손실 함수 지정"
      ],
      "metadata": {
        "id": "ac8WHWGsYbGn"
      },
      "id": "ac8WHWGsYbGn"
    },
    {
      "cell_type": "code",
      "execution_count": null,
      "id": "8400134c",
      "metadata": {
        "id": "8400134c"
      },
      "outputs": [],
      "source": [
        "num_epochs = 1000\n",
        "learning_rate = 0.0001\n",
        "\n",
        "input_size = 5\n",
        "hidden_size = 2\n",
        "num_layers = 1 # GRU 계층의 개수\n",
        "\n",
        "num_classes = 1\n",
        "model = GRU(num_classes, input_size, hidden_size, num_layers, X_train_tensors_f.shape[1])\n",
        "\n",
        "criterion = torch.nn.MSELoss()\n",
        "optimizer = torch.optim.Adam(model.parameters(), lr=learning_rate)"
      ]
    },
    {
      "cell_type": "markdown",
      "source": [
        "### 모델 학습"
      ],
      "metadata": {
        "id": "EIq7ppxyYi-1"
      },
      "id": "EIq7ppxyYi-1"
    },
    {
      "cell_type": "code",
      "execution_count": null,
      "id": "7c116157",
      "metadata": {
        "colab": {
          "base_uri": "https://localhost:8080/"
        },
        "id": "7c116157",
        "outputId": "8ab9b0ee-1746-43f4-8bfa-f51c092e1411"
      },
      "outputs": [
        {
          "output_type": "stream",
          "name": "stdout",
          "text": [
            "Epoch: 0, loss: 0.00313\n",
            "Epoch: 100, loss: 0.00266\n",
            "Epoch: 200, loss: 0.00258\n",
            "Epoch: 300, loss: 0.00252\n",
            "Epoch: 400, loss: 0.00246\n",
            "Epoch: 500, loss: 0.00239\n",
            "Epoch: 600, loss: 0.00233\n",
            "Epoch: 700, loss: 0.00228\n",
            "Epoch: 800, loss: 0.00222\n",
            "Epoch: 900, loss: 0.00218\n"
          ]
        }
      ],
      "source": [
        "for epoch in range(num_epochs):\n",
        "    outputs = model.forward(X_train_tensors_f)\n",
        "    optimizer.zero_grad()\n",
        "    loss = criterion(outputs, y_train_tensors)\n",
        "    loss.backward()\n",
        "\n",
        "    optimizer.step()\n",
        "    if epoch % 100 == 0:\n",
        "        print(\"Epoch: %d, loss: %1.5f\" % (epoch, loss.item()))"
      ]
    },
    {
      "cell_type": "markdown",
      "source": [
        "### 그래프 출력을 위한 전처리"
      ],
      "metadata": {
        "id": "UTnpdyF6YwO7"
      },
      "id": "UTnpdyF6YwO7"
    },
    {
      "cell_type": "code",
      "execution_count": null,
      "id": "37ce2f76",
      "metadata": {
        "id": "37ce2f76"
      },
      "outputs": [],
      "source": [
        "# 입력 데이터를 표준화합니다.\n",
        "df_x_ss = ss.transform(data.iloc[:, :-1])\n",
        "# 타겟 데이터를 Min-Max 스케일링합니다.\n",
        "df_y_ms = ms.transform(data.iloc[:, -1:])\n",
        "\n",
        "# PyTorch Tensor로 입력 데이터를 변환합니다.\n",
        "df_x_ss = Variable(torch.Tensor(df_x_ss))\n",
        "# PyTorch Tensor로 타겟 데이터를 변환합니다.\n",
        "df_y_ms = Variable(torch.Tensor(df_y_ms))\n",
        "# 입력 데이터의 차원을 변경하여 (샘플 수, 시퀀스 길이, 피쳐 수) 형태로 변환합니다.\n",
        "df_x_ss = torch.reshape(df_x_ss, (df_x_ss.shape[0], 1, df_x_ss.shape[1]))"
      ]
    },
    {
      "cell_type": "markdown",
      "source": [
        "### 모델 예측 결과 출력"
      ],
      "metadata": {
        "id": "A8TYrTCdYybp"
      },
      "id": "A8TYrTCdYybp"
    },
    {
      "cell_type": "code",
      "execution_count": null,
      "id": "88453ba7",
      "metadata": {
        "colab": {
          "base_uri": "https://localhost:8080/",
          "height": 545
        },
        "id": "88453ba7",
        "outputId": "964327c2-9b13-4a35-a41a-670d4c41b932"
      },
      "outputs": [
        {
          "output_type": "display_data",
          "data": {
            "text/plain": [
              "<Figure size 1000x600 with 1 Axes>"
            ],
            "image/png": "[encoded data removed]"
          },
          "metadata": {}
        }
      ],
      "source": [
        "# 훈련된 모델을 사용하여 입력 데이터에 대한 예측값 계산\n",
        "train_predict = model(df_x_ss)\n",
        "# 예측값을 NumPy 배열로 변환\n",
        "predicted = train_predict.data.numpy()\n",
        "# 타겟 데이터를 NumPy 배열로 변환\n",
        "label_y = df_y_ms.data.numpy()\n",
        "\n",
        "# 예측값을 역변환하여 원래 스케일로 되돌립니다.\n",
        "predicted = ms.inverse_transform(predicted)\n",
        "# 타겟 데이터를 역변환하여 원래 스케일로 되돌립니다.\n",
        "label_y = ms.inverse_transform(label_y)\n",
        "\n",
        "# 시각화\n",
        "plt.figure(figsize=(10,6))\n",
        "plt.axvline(x=200, c='r', linestyle='--') # 훈련 데이터와 테스트 데이터의 경계를 나타내는 선 추가\n",
        "\n",
        "plt.plot(label_y, label='Actual Data') # 실제 데이터 그래프\n",
        "plt.plot(predicted, label='Predicted Data') # 예측 데이터 그래프\n",
        "plt.title('Time-Series Prediction') # 그래프 제목\n",
        "plt.legend() # 범례 표시\n",
        "plt.show() # 그래프 출력"
      ]
    },
    {
      "cell_type": "markdown",
      "source": [
        "# 7.7.2 양방향 LSTM 구현"
      ],
      "metadata": {
        "id": "XjSAoeRMDB8r"
      },
      "id": "XjSAoeRMDB8r"
    },
    {
      "cell_type": "markdown",
      "source": [
        "### 모델을 생성하고 학습"
      ],
      "metadata": {
        "id": "PKIRs3Qka3k_"
      },
      "id": "PKIRs3Qka3k_"
    },
    {
      "cell_type": "code",
      "execution_count": null,
      "id": "35983dc3",
      "metadata": {
        "id": "35983dc3"
      },
      "outputs": [],
      "source": [
        "import os\n",
        "import time\n",
        "\n",
        "import numpy as np\n",
        "import pandas as pd\n",
        "import matplotlib.pyplot as plt\n",
        "\n",
        "import torch\n",
        "import torch.nn as nn\n",
        "from torch.utils.data import TensorDataset, DataLoader\n",
        "from torch.autograd import Variable\n",
        "from tqdm import tqdm_notebook\n",
        "from sklearn.preprocessing import MinMaxScaler\n",
        "from sklearn.model_selection import train_test_split\n",
        "\n",
        "device = torch.device('cuda:0' if torch.cuda.is_available() else 'cpu')"
      ]
    },
    {
      "cell_type": "code",
      "execution_count": null,
      "id": "3f6e0854",
      "metadata": {
        "colab": {
          "base_uri": "https://localhost:8080/"
        },
        "id": "3f6e0854",
        "outputId": "054b05e9-a783-4185-a756-55a5c4e91b5e"
      },
      "outputs": [
        {
          "output_type": "stream",
          "name": "stdout",
          "text": [
            "Date          object\n",
            "Open         float64\n",
            "High         float64\n",
            "Low          float64\n",
            "Close        float64\n",
            "Adj Close    float64\n",
            "Volume         int64\n",
            "dtype: object\n"
          ]
        }
      ],
      "source": [
        "data=pd.read_csv('SBUX.csv')\n",
        "print(data.dtypes)"
      ]
    },
    {
      "cell_type": "code",
      "execution_count": null,
      "id": "4debfcae",
      "metadata": {
        "id": "4debfcae"
      },
      "outputs": [],
      "source": [
        "data['Date'] = pd.to_datetime(data['Date'])\n",
        "data.set_index('Date', inplace=True)"
      ]
    },
    {
      "cell_type": "code",
      "execution_count": null,
      "id": "844657a8",
      "metadata": {
        "id": "844657a8"
      },
      "outputs": [],
      "source": [
        "data['Volume'] = data['Volume'].astype(float)"
      ]
    },
    {
      "cell_type": "code",
      "execution_count": null,
      "id": "764f7994",
      "metadata": {
        "colab": {
          "base_uri": "https://localhost:8080/"
        },
        "id": "764f7994",
        "outputId": "e3e2edc5-c0e3-43a4-83ad-97f66427fcb7"
      },
      "outputs": [
        {
          "output_type": "stream",
          "name": "stdout",
          "text": [
            "                  Open        High         Low       Close   Adj Close\n",
            "Date                                                                  \n",
            "2023-05-10  107.160004  108.110001  105.680000  106.970001  104.667084\n",
            "2023-05-11  106.440002  106.760002  105.120003  105.629997  103.870567\n",
            "2023-05-12  105.760002  106.220001  104.830002  106.120003  104.352417\n",
            "2023-05-15  106.110001  106.760002  105.610001  106.639999  104.863747\n",
            "2023-05-16  106.410004  106.559998  105.199997  105.279999  103.526405\n",
            "...                ...         ...         ...         ...         ...\n",
            "2024-05-03   75.269997   75.510002   72.989998   73.110001   73.110001\n",
            "2024-05-06   73.309998   74.190002   72.699997   72.900002   72.900002\n",
            "2024-05-07   72.849998   72.849998   71.800003   72.500000   72.500000\n",
            "2024-05-08   72.290001   74.470001   72.250000   73.500000   73.500000\n",
            "2024-05-09   73.570000   75.760002   73.070000   75.680000   75.680000\n",
            "\n",
            "[252 rows x 5 columns]\n",
            "                Volume\n",
            "Date                  \n",
            "2023-05-10   4565000.0\n",
            "2023-05-11   4791700.0\n",
            "2023-05-12   5167600.0\n",
            "2023-05-15   4217000.0\n",
            "2023-05-16   3676600.0\n",
            "...                ...\n",
            "2024-05-03  22153800.0\n",
            "2024-05-06  18632200.0\n",
            "2024-05-07  21901300.0\n",
            "2024-05-08  24482600.0\n",
            "2024-05-09  18573800.0\n",
            "\n",
            "[252 rows x 1 columns]\n"
          ]
        }
      ],
      "source": [
        "X=data.iloc[:,:-1]\n",
        "y=data.iloc[:,5:6]\n",
        "print(X)\n",
        "print(y)"
      ]
    },
    {
      "cell_type": "code",
      "execution_count": null,
      "id": "e31be8cf",
      "metadata": {
        "colab": {
          "base_uri": "https://localhost:8080/"
        },
        "id": "e31be8cf",
        "outputId": "192c9b08-51c7-476c-ed25-f49a7ee9a93b"
      },
      "outputs": [
        {
          "output_type": "stream",
          "name": "stdout",
          "text": [
            "Training Shape (200, 5) (200, 1)\n",
            "Testing Shape (52, 5) (52, 1)\n"
          ]
        }
      ],
      "source": [
        "from sklearn.preprocessing import StandardScaler, MinMaxScaler\n",
        "ms = MinMaxScaler()\n",
        "ss = StandardScaler()\n",
        "\n",
        "X_ss = ss.fit_transform(X)\n",
        "y_ms = ms.fit_transform(y)\n",
        "\n",
        "X_train = X_ss[:200, :]\n",
        "X_test = X_ss[200:, :]\n",
        "\n",
        "y_train = y_ms[:200, :]\n",
        "y_test = y_ms[200:, :]\n",
        "\n",
        "print(\"Training Shape\", X_train.shape, y_train.shape)\n",
        "print(\"Testing Shape\", X_test.shape, y_test.shape)"
      ]
    },
    {
      "cell_type": "code",
      "execution_count": null,
      "id": "42075f9f",
      "metadata": {
        "colab": {
          "base_uri": "https://localhost:8080/"
        },
        "id": "42075f9f",
        "outputId": "8329f443-fc45-4e55-c59b-25551876cc1b"
      },
      "outputs": [
        {
          "output_type": "stream",
          "name": "stdout",
          "text": [
            "Training Shape torch.Size([200, 1, 5]) torch.Size([200, 1])\n",
            "Testing Shape torch.Size([52, 1, 5]) torch.Size([52, 1])\n"
          ]
        }
      ],
      "source": [
        "X_train_tensors = Variable(torch.Tensor(X_train))\n",
        "X_test_tensors = Variable(torch.Tensor(X_test))\n",
        "\n",
        "y_train_tensors = Variable(torch.Tensor(y_train))\n",
        "y_test_tensors = Variable(torch.Tensor(y_test))\n",
        "\n",
        "X_train_tensors_f = torch.reshape(X_train_tensors,   (X_train_tensors.shape[0], 1, X_train_tensors.shape[1]))\n",
        "X_test_tensors_f = torch.reshape(X_test_tensors,  (X_test_tensors.shape[0], 1, X_test_tensors.shape[1]))\n",
        "\n",
        "print(\"Training Shape\", X_train_tensors_f.shape, y_train_tensors.shape)\n",
        "print(\"Testing Shape\", X_test_tensors_f.shape, y_test_tensors.shape)"
      ]
    },
    {
      "cell_type": "markdown",
      "source": [
        "### 양방향 LSTM 모델의 네트워크"
      ],
      "metadata": {
        "id": "mHBbQWEza8AW"
      },
      "id": "mHBbQWEza8AW"
    },
    {
      "cell_type": "code",
      "execution_count": null,
      "id": "7f6a6d97",
      "metadata": {
        "id": "7f6a6d97"
      },
      "outputs": [],
      "source": [
        "class biLSTM(nn.Module):\n",
        "    def __init__(self, num_classes, input_size, hidden_size, num_layers, seq_length):\n",
        "        super(biLSTM, self).__init__()\n",
        "        self.num_classes = num_classes\n",
        "        self.num_layers = num_layers\n",
        "        self.input_size = input_size\n",
        "        self.hidden_size = hidden_size\n",
        "        self.seq_length = seq_length\n",
        "\n",
        "        self.lstm = nn.LSTM(input_size=input_size, hidden_size=hidden_size,\n",
        "                          num_layers=num_layers, bidirectional=True, batch_first=True) # bidirectional=True : 양방향 LSTM 사용\n",
        "                                                                                       # 양방향 RNN, 양방향 GRU 에도 사용 가능\n",
        "        self.fc =  nn.Linear(hidden_size*2, num_classes) # 한 번 학습하는 데 2개의 계층 필요\n",
        "        self.relu = nn.ReLU()\n",
        "\n",
        "    def forward(self,x):\n",
        "        h_0 = Variable(torch.zeros(self.num_layers*2, x.size(0), self.hidden_size)) # 한 번 학습하는 데 2개의 계층 필요\n",
        "        c_0 = Variable(torch.zeros(self.num_layers*2, x.size(0), self.hidden_size)) # 한 번 학습하는 데 2개의 계층 필요\n",
        "        out, _ = self.lstm(x, (h_0, c_0))\n",
        "        out = self.fc(out[:, -1, :])\n",
        "        out = self.relu(out)\n",
        "        return out"
      ]
    },
    {
      "cell_type": "markdown",
      "source": [
        "### 모델 학습"
      ],
      "metadata": {
        "id": "cngFCDZcbEqp"
      },
      "id": "cngFCDZcbEqp"
    },
    {
      "cell_type": "code",
      "execution_count": null,
      "id": "b9b47327",
      "metadata": {
        "id": "b9b47327"
      },
      "outputs": [],
      "source": [
        "num_epochs = 1000\n",
        "learning_rate = 0.0001\n",
        "\n",
        "input_size = 5\n",
        "hidden_size = 2\n",
        "num_layers = 1\n",
        "\n",
        "num_classes = 1\n",
        "model = biLSTM(num_classes, input_size, hidden_size, num_layers, X_train_tensors_f.shape[1])\n",
        "\n",
        "criterion = torch.nn.MSELoss()\n",
        "optimizer = torch.optim.Adam(model.parameters(), lr=learning_rate)"
      ]
    },
    {
      "cell_type": "code",
      "execution_count": null,
      "id": "2bb095e1",
      "metadata": {
        "colab": {
          "base_uri": "https://localhost:8080/"
        },
        "id": "2bb095e1",
        "outputId": "74737a24-b578-4296-a5fd-a7e8890c1e94"
      },
      "outputs": [
        {
          "output_type": "stream",
          "name": "stdout",
          "text": [
            "Epoch: 0, loss: 0.11536\n",
            "Epoch: 100, loss: 0.10087\n",
            "Epoch: 200, loss: 0.08743\n",
            "Epoch: 300, loss: 0.07499\n",
            "Epoch: 400, loss: 0.06371\n",
            "Epoch: 500, loss: 0.05368\n",
            "Epoch: 600, loss: 0.04491\n",
            "Epoch: 700, loss: 0.03739\n",
            "Epoch: 800, loss: 0.03104\n",
            "Epoch: 900, loss: 0.02576\n"
          ]
        }
      ],
      "source": [
        "for epoch in range(num_epochs):\n",
        "    outputs = model.forward(X_train_tensors_f)\n",
        "    optimizer.zero_grad()\n",
        "\n",
        "    loss = criterion(outputs, y_train_tensors)\n",
        "    loss.backward()\n",
        "    optimizer.step()\n",
        "    if epoch % 100 == 0:\n",
        "        print(\"Epoch: %d, loss: %1.5f\" % (epoch, loss.item()))"
      ]
    },
    {
      "cell_type": "markdown",
      "source": [
        "### 모델 평가"
      ],
      "metadata": {
        "id": "OyPVGC1ybHS0"
      },
      "id": "OyPVGC1ybHS0"
    },
    {
      "cell_type": "code",
      "execution_count": null,
      "id": "70b47b7f",
      "metadata": {
        "id": "70b47b7f"
      },
      "outputs": [],
      "source": [
        "df_x_ss = ss.transform(data.iloc[:, :-1])\n",
        "df_y_ms = ms.transform(data.iloc[:, -1:])\n",
        "\n",
        "df_x_ss = Variable(torch.Tensor(df_x_ss))\n",
        "df_y_ms = Variable(torch.Tensor(df_y_ms))\n",
        "df_x_ss = torch.reshape(df_x_ss, (df_x_ss.shape[0], 1, df_x_ss.shape[1]))"
      ]
    },
    {
      "cell_type": "code",
      "execution_count": null,
      "id": "7b7d11ba",
      "metadata": {
        "colab": {
          "base_uri": "https://localhost:8080/",
          "height": 545
        },
        "id": "7b7d11ba",
        "outputId": "075e8f41-7ba6-4179-fc76-ca1a584ed699"
      },
      "outputs": [
        {
          "output_type": "display_data",
          "data": {
            "text/plain": [
              "<Figure size 1000x600 with 1 Axes>"
            ],
            "image/png": "[encoded data removed]"
          },
          "metadata": {}
        }
      ],
      "source": [
        "train_predict = model(df_x_ss)\n",
        "predicted = train_predict.data.numpy()\n",
        "label_y = df_y_ms.data.numpy()\n",
        "\n",
        "predicted = ms.inverse_transform(predicted)\n",
        "label_y = ms.inverse_transform(label_y)\n",
        "plt.figure(figsize=(10,6))\n",
        "plt.axvline(x=200, c='r', linestyle='--')\n",
        "\n",
        "plt.plot(label_y, label='Actual Data')\n",
        "plt.plot(predicted, label='Predicted Data')\n",
        "plt.title('Time-Series Prediction')\n",
        "plt.legend()\n",
        "plt.show()"
      ]
    },
    {
      "cell_type": "code",
      "execution_count": null,
      "id": "c96a5f38",
      "metadata": {
        "id": "c96a5f38"
      },
      "outputs": [],
      "source": []
    }
  ],
  "metadata": {
    "accelerator": "GPU",
    "colab": {
      "collapsed_sections": [
        "KhR9gPVwEjVj",
        "oVXXM_cCa5ri"
      ],
      "provenance": [],
      "gpuType": "T4"
    },
    "kernelspec": {
      "display_name": "Python 3",
      "name": "python3"
    },
    "language_info": {
      "codemirror_mode": {
        "name": "ipython",
        "version": 3
      },
      "file_extension": ".py",
      "mimetype": "text/x-python",
      "name": "python",
      "nbconvert_exporter": "python",
      "pygments_lexer": "ipython3",
      "version": "3.9.7"
    }
  },
  "nbformat": 4,
  "nbformat_minor": 5
}